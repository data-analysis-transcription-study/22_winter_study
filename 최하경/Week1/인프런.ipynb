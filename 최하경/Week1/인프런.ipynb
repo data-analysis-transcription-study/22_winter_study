{
 "cells": [
  {
   "cell_type": "code",
   "execution_count": 1,
   "metadata": {
    "_cell_guid": "b1076dfc-b9ad-4769-8c92-a6c4dae69d19",
    "_uuid": "8f2839f25d086af736a60e9eeb907d3b93b6e0e5",
    "execution": {
     "iopub.execute_input": "2022-02-04T13:59:56.501351Z",
     "iopub.status.busy": "2022-02-04T13:59:56.499677Z",
     "iopub.status.idle": "2022-02-04T13:59:56.522004Z",
     "shell.execute_reply": "2022-02-04T13:59:56.523806Z",
     "shell.execute_reply.started": "2022-02-04T13:06:28.881899Z"
    },
    "papermill": {
     "duration": 0.102688,
     "end_time": "2022-02-04T13:59:56.524297",
     "exception": false,
     "start_time": "2022-02-04T13:59:56.421609",
     "status": "completed"
    },
    "tags": []
   },
   "outputs": [
    {
     "name": "stdout",
     "output_type": "stream",
     "text": [
      "/kaggle/input/london-bike-sharing-dataset/london_merged.csv\n"
     ]
    }
   ],
   "source": [
    "import numpy as np\n",
    "import pandas as pd\n",
    "\n",
    "import os\n",
    "for dirname, _, filenames in os.walk('/kaggle/input'):\n",
    "    for filename in filenames:\n",
    "        print(os.path.join(dirname, filename))"
   ]
  },
  {
   "cell_type": "code",
   "execution_count": 2,
   "metadata": {
    "execution": {
     "iopub.execute_input": "2022-02-04T13:59:56.665327Z",
     "iopub.status.busy": "2022-02-04T13:59:56.663695Z",
     "iopub.status.idle": "2022-02-04T13:59:57.851878Z",
     "shell.execute_reply": "2022-02-04T13:59:57.852403Z",
     "shell.execute_reply.started": "2022-02-04T13:06:28.899244Z"
    },
    "papermill": {
     "duration": 1.260182,
     "end_time": "2022-02-04T13:59:57.852620",
     "exception": false,
     "start_time": "2022-02-04T13:59:56.592438",
     "status": "completed"
    },
    "tags": []
   },
   "outputs": [],
   "source": [
    "import matplotlib.pyplot as plt\n",
    "import seaborn as sns\n",
    "import missingno as msno"
   ]
  },
  {
   "cell_type": "markdown",
   "metadata": {
    "papermill": {
     "duration": 0.067876,
     "end_time": "2022-02-04T13:59:57.992469",
     "exception": false,
     "start_time": "2022-02-04T13:59:57.924593",
     "status": "completed"
    },
    "tags": []
   },
   "source": [
    "### 데이터 불러오기"
   ]
  },
  {
   "cell_type": "code",
   "execution_count": 3,
   "metadata": {
    "execution": {
     "iopub.execute_input": "2022-02-04T13:59:58.149242Z",
     "iopub.status.busy": "2022-02-04T13:59:58.148099Z",
     "iopub.status.idle": "2022-02-04T13:59:58.244264Z",
     "shell.execute_reply": "2022-02-04T13:59:58.245218Z",
     "shell.execute_reply.started": "2022-01-30T01:59:01.07492Z"
    },
    "papermill": {
     "duration": 0.177735,
     "end_time": "2022-02-04T13:59:58.245484",
     "exception": false,
     "start_time": "2022-02-04T13:59:58.067749",
     "status": "completed"
    },
    "tags": []
   },
   "outputs": [
    {
     "data": {
      "text/html": [
       "<div>\n",
       "<style scoped>\n",
       "    .dataframe tbody tr th:only-of-type {\n",
       "        vertical-align: middle;\n",
       "    }\n",
       "\n",
       "    .dataframe tbody tr th {\n",
       "        vertical-align: top;\n",
       "    }\n",
       "\n",
       "    .dataframe thead th {\n",
       "        text-align: right;\n",
       "    }\n",
       "</style>\n",
       "<table border=\"1\" class=\"dataframe\">\n",
       "  <thead>\n",
       "    <tr style=\"text-align: right;\">\n",
       "      <th></th>\n",
       "      <th>timestamp</th>\n",
       "      <th>cnt</th>\n",
       "      <th>t1</th>\n",
       "      <th>t2</th>\n",
       "      <th>hum</th>\n",
       "      <th>wind_speed</th>\n",
       "      <th>weather_code</th>\n",
       "      <th>is_holiday</th>\n",
       "      <th>is_weekend</th>\n",
       "      <th>season</th>\n",
       "    </tr>\n",
       "  </thead>\n",
       "  <tbody>\n",
       "    <tr>\n",
       "      <th>0</th>\n",
       "      <td>2015-01-04 00:00:00</td>\n",
       "      <td>182</td>\n",
       "      <td>3.0</td>\n",
       "      <td>2.0</td>\n",
       "      <td>93.0</td>\n",
       "      <td>6.0</td>\n",
       "      <td>3.0</td>\n",
       "      <td>0.0</td>\n",
       "      <td>1.0</td>\n",
       "      <td>3.0</td>\n",
       "    </tr>\n",
       "    <tr>\n",
       "      <th>1</th>\n",
       "      <td>2015-01-04 01:00:00</td>\n",
       "      <td>138</td>\n",
       "      <td>3.0</td>\n",
       "      <td>2.5</td>\n",
       "      <td>93.0</td>\n",
       "      <td>5.0</td>\n",
       "      <td>1.0</td>\n",
       "      <td>0.0</td>\n",
       "      <td>1.0</td>\n",
       "      <td>3.0</td>\n",
       "    </tr>\n",
       "    <tr>\n",
       "      <th>2</th>\n",
       "      <td>2015-01-04 02:00:00</td>\n",
       "      <td>134</td>\n",
       "      <td>2.5</td>\n",
       "      <td>2.5</td>\n",
       "      <td>96.5</td>\n",
       "      <td>0.0</td>\n",
       "      <td>1.0</td>\n",
       "      <td>0.0</td>\n",
       "      <td>1.0</td>\n",
       "      <td>3.0</td>\n",
       "    </tr>\n",
       "    <tr>\n",
       "      <th>3</th>\n",
       "      <td>2015-01-04 03:00:00</td>\n",
       "      <td>72</td>\n",
       "      <td>2.0</td>\n",
       "      <td>2.0</td>\n",
       "      <td>100.0</td>\n",
       "      <td>0.0</td>\n",
       "      <td>1.0</td>\n",
       "      <td>0.0</td>\n",
       "      <td>1.0</td>\n",
       "      <td>3.0</td>\n",
       "    </tr>\n",
       "    <tr>\n",
       "      <th>4</th>\n",
       "      <td>2015-01-04 04:00:00</td>\n",
       "      <td>47</td>\n",
       "      <td>2.0</td>\n",
       "      <td>0.0</td>\n",
       "      <td>93.0</td>\n",
       "      <td>6.5</td>\n",
       "      <td>1.0</td>\n",
       "      <td>0.0</td>\n",
       "      <td>1.0</td>\n",
       "      <td>3.0</td>\n",
       "    </tr>\n",
       "  </tbody>\n",
       "</table>\n",
       "</div>"
      ],
      "text/plain": [
       "            timestamp  cnt   t1   t2    hum  wind_speed  weather_code  \\\n",
       "0 2015-01-04 00:00:00  182  3.0  2.0   93.0         6.0           3.0   \n",
       "1 2015-01-04 01:00:00  138  3.0  2.5   93.0         5.0           1.0   \n",
       "2 2015-01-04 02:00:00  134  2.5  2.5   96.5         0.0           1.0   \n",
       "3 2015-01-04 03:00:00   72  2.0  2.0  100.0         0.0           1.0   \n",
       "4 2015-01-04 04:00:00   47  2.0  0.0   93.0         6.5           1.0   \n",
       "\n",
       "   is_holiday  is_weekend  season  \n",
       "0         0.0         1.0     3.0  \n",
       "1         0.0         1.0     3.0  \n",
       "2         0.0         1.0     3.0  \n",
       "3         0.0         1.0     3.0  \n",
       "4         0.0         1.0     3.0  "
      ]
     },
     "execution_count": 3,
     "metadata": {},
     "output_type": "execute_result"
    }
   ],
   "source": [
    "df=pd.read_csv(\"../input/london-bike-sharing-dataset/london_merged.csv\",parse_dates=['timestamp']) # 데이터의 timestamp 컬럼을 date으로 설정\n",
    "df.head()"
   ]
  },
  {
   "cell_type": "code",
   "execution_count": 4,
   "metadata": {
    "execution": {
     "iopub.execute_input": "2022-02-04T13:59:58.386646Z",
     "iopub.status.busy": "2022-02-04T13:59:58.385763Z",
     "iopub.status.idle": "2022-02-04T13:59:58.396391Z",
     "shell.execute_reply": "2022-02-04T13:59:58.397205Z",
     "shell.execute_reply.started": "2022-01-30T02:00:28.752549Z"
    },
    "papermill": {
     "duration": 0.082524,
     "end_time": "2022-02-04T13:59:58.397454",
     "exception": false,
     "start_time": "2022-02-04T13:59:58.314930",
     "status": "completed"
    },
    "tags": []
   },
   "outputs": [
    {
     "name": "stdout",
     "output_type": "stream",
     "text": [
      "데이터의 구조:  (17414, 10)\n",
      "데이터의 타입:  timestamp       datetime64[ns]\n",
      "cnt                      int64\n",
      "t1                     float64\n",
      "t2                     float64\n",
      "hum                    float64\n",
      "wind_speed             float64\n",
      "weather_code           float64\n",
      "is_holiday             float64\n",
      "is_weekend             float64\n",
      "season                 float64\n",
      "dtype: object\n",
      "데이터의 컬럼:  Index(['timestamp', 'cnt', 't1', 't2', 'hum', 'wind_speed', 'weather_code',\n",
      "       'is_holiday', 'is_weekend', 'season'],\n",
      "      dtype='object')\n"
     ]
    }
   ],
   "source": [
    "# 데이터의 타입과 구조\n",
    "print(\"데이터의 구조: \",df.shape)\n",
    "print(\"데이터의 타입: \",df.dtypes)\n",
    "print(\"데이터의 컬럼: \",df.columns)"
   ]
  },
  {
   "cell_type": "code",
   "execution_count": 5,
   "metadata": {
    "execution": {
     "iopub.execute_input": "2022-02-04T13:59:58.553268Z",
     "iopub.status.busy": "2022-02-04T13:59:58.552543Z",
     "iopub.status.idle": "2022-02-04T13:59:58.560268Z",
     "shell.execute_reply": "2022-02-04T13:59:58.560894Z",
     "shell.execute_reply.started": "2022-01-30T02:00:43.558902Z"
    },
    "papermill": {
     "duration": 0.089253,
     "end_time": "2022-02-04T13:59:58.561095",
     "exception": false,
     "start_time": "2022-02-04T13:59:58.471842",
     "status": "completed"
    },
    "tags": []
   },
   "outputs": [
    {
     "data": {
      "text/plain": [
       "timestamp       0\n",
       "cnt             0\n",
       "t1              0\n",
       "t2              0\n",
       "hum             0\n",
       "wind_speed      0\n",
       "weather_code    0\n",
       "is_holiday      0\n",
       "is_weekend      0\n",
       "season          0\n",
       "dtype: int64"
      ]
     },
     "execution_count": 5,
     "metadata": {},
     "output_type": "execute_result"
    }
   ],
   "source": [
    "# 결측치\n",
    "df.isna().sum()"
   ]
  },
  {
   "cell_type": "code",
   "execution_count": 6,
   "metadata": {
    "execution": {
     "iopub.execute_input": "2022-02-04T13:59:58.704843Z",
     "iopub.status.busy": "2022-02-04T13:59:58.704206Z",
     "iopub.status.idle": "2022-02-04T13:59:59.260003Z",
     "shell.execute_reply": "2022-02-04T13:59:59.259322Z",
     "shell.execute_reply.started": "2022-01-30T02:01:04.357697Z"
    },
    "papermill": {
     "duration": 0.627889,
     "end_time": "2022-02-04T13:59:59.260157",
     "exception": false,
     "start_time": "2022-02-04T13:59:58.632268",
     "status": "completed"
    },
    "tags": []
   },
   "outputs": [
    {
     "data": {
      "image/png": "[encoded data removed]",
      "text/plain": [
       "<Figure size 1800x720 with 2 Axes>"
      ]
     },
     "metadata": {
      "needs_background": "light"
     },
     "output_type": "display_data"
    }
   ],
   "source": [
    "# 결측치 시각화\n",
    "msno.matrix(df)\n",
    "plt.show()"
   ]
  },
  {
   "cell_type": "code",
   "execution_count": 7,
   "metadata": {
    "execution": {
     "iopub.execute_input": "2022-02-04T13:59:59.411951Z",
     "iopub.status.busy": "2022-02-04T13:59:59.411262Z",
     "iopub.status.idle": "2022-02-04T13:59:59.443922Z",
     "shell.execute_reply": "2022-02-04T13:59:59.443257Z",
     "shell.execute_reply.started": "2022-01-30T02:03:39.783146Z"
    },
    "papermill": {
     "duration": 0.113588,
     "end_time": "2022-02-04T13:59:59.444405",
     "exception": false,
     "start_time": "2022-02-04T13:59:59.330817",
     "status": "completed"
    },
    "tags": []
   },
   "outputs": [
    {
     "data": {
      "text/html": [
       "<div>\n",
       "<style scoped>\n",
       "    .dataframe tbody tr th:only-of-type {\n",
       "        vertical-align: middle;\n",
       "    }\n",
       "\n",
       "    .dataframe tbody tr th {\n",
       "        vertical-align: top;\n",
       "    }\n",
       "\n",
       "    .dataframe thead th {\n",
       "        text-align: right;\n",
       "    }\n",
       "</style>\n",
       "<table border=\"1\" class=\"dataframe\">\n",
       "  <thead>\n",
       "    <tr style=\"text-align: right;\">\n",
       "      <th></th>\n",
       "      <th>timestamp</th>\n",
       "      <th>cnt</th>\n",
       "      <th>t1</th>\n",
       "      <th>t2</th>\n",
       "      <th>hum</th>\n",
       "      <th>wind_speed</th>\n",
       "      <th>weather_code</th>\n",
       "      <th>is_holiday</th>\n",
       "      <th>is_weekend</th>\n",
       "      <th>season</th>\n",
       "      <th>year</th>\n",
       "      <th>month</th>\n",
       "      <th>dayofweek</th>\n",
       "      <th>hour</th>\n",
       "    </tr>\n",
       "  </thead>\n",
       "  <tbody>\n",
       "    <tr>\n",
       "      <th>0</th>\n",
       "      <td>2015-01-04 00:00:00</td>\n",
       "      <td>182</td>\n",
       "      <td>3.0</td>\n",
       "      <td>2.0</td>\n",
       "      <td>93.0</td>\n",
       "      <td>6.0</td>\n",
       "      <td>3.0</td>\n",
       "      <td>0.0</td>\n",
       "      <td>1.0</td>\n",
       "      <td>3.0</td>\n",
       "      <td>2015</td>\n",
       "      <td>1</td>\n",
       "      <td>6</td>\n",
       "      <td>0</td>\n",
       "    </tr>\n",
       "    <tr>\n",
       "      <th>1</th>\n",
       "      <td>2015-01-04 01:00:00</td>\n",
       "      <td>138</td>\n",
       "      <td>3.0</td>\n",
       "      <td>2.5</td>\n",
       "      <td>93.0</td>\n",
       "      <td>5.0</td>\n",
       "      <td>1.0</td>\n",
       "      <td>0.0</td>\n",
       "      <td>1.0</td>\n",
       "      <td>3.0</td>\n",
       "      <td>2015</td>\n",
       "      <td>1</td>\n",
       "      <td>6</td>\n",
       "      <td>1</td>\n",
       "    </tr>\n",
       "    <tr>\n",
       "      <th>2</th>\n",
       "      <td>2015-01-04 02:00:00</td>\n",
       "      <td>134</td>\n",
       "      <td>2.5</td>\n",
       "      <td>2.5</td>\n",
       "      <td>96.5</td>\n",
       "      <td>0.0</td>\n",
       "      <td>1.0</td>\n",
       "      <td>0.0</td>\n",
       "      <td>1.0</td>\n",
       "      <td>3.0</td>\n",
       "      <td>2015</td>\n",
       "      <td>1</td>\n",
       "      <td>6</td>\n",
       "      <td>2</td>\n",
       "    </tr>\n",
       "    <tr>\n",
       "      <th>3</th>\n",
       "      <td>2015-01-04 03:00:00</td>\n",
       "      <td>72</td>\n",
       "      <td>2.0</td>\n",
       "      <td>2.0</td>\n",
       "      <td>100.0</td>\n",
       "      <td>0.0</td>\n",
       "      <td>1.0</td>\n",
       "      <td>0.0</td>\n",
       "      <td>1.0</td>\n",
       "      <td>3.0</td>\n",
       "      <td>2015</td>\n",
       "      <td>1</td>\n",
       "      <td>6</td>\n",
       "      <td>3</td>\n",
       "    </tr>\n",
       "    <tr>\n",
       "      <th>4</th>\n",
       "      <td>2015-01-04 04:00:00</td>\n",
       "      <td>47</td>\n",
       "      <td>2.0</td>\n",
       "      <td>0.0</td>\n",
       "      <td>93.0</td>\n",
       "      <td>6.5</td>\n",
       "      <td>1.0</td>\n",
       "      <td>0.0</td>\n",
       "      <td>1.0</td>\n",
       "      <td>3.0</td>\n",
       "      <td>2015</td>\n",
       "      <td>1</td>\n",
       "      <td>6</td>\n",
       "      <td>4</td>\n",
       "    </tr>\n",
       "  </tbody>\n",
       "</table>\n",
       "</div>"
      ],
      "text/plain": [
       "            timestamp  cnt   t1   t2    hum  wind_speed  weather_code  \\\n",
       "0 2015-01-04 00:00:00  182  3.0  2.0   93.0         6.0           3.0   \n",
       "1 2015-01-04 01:00:00  138  3.0  2.5   93.0         5.0           1.0   \n",
       "2 2015-01-04 02:00:00  134  2.5  2.5   96.5         0.0           1.0   \n",
       "3 2015-01-04 03:00:00   72  2.0  2.0  100.0         0.0           1.0   \n",
       "4 2015-01-04 04:00:00   47  2.0  0.0   93.0         6.5           1.0   \n",
       "\n",
       "   is_holiday  is_weekend  season  year  month  dayofweek  hour  \n",
       "0         0.0         1.0     3.0  2015      1          6     0  \n",
       "1         0.0         1.0     3.0  2015      1          6     1  \n",
       "2         0.0         1.0     3.0  2015      1          6     2  \n",
       "3         0.0         1.0     3.0  2015      1          6     3  \n",
       "4         0.0         1.0     3.0  2015      1          6     4  "
      ]
     },
     "execution_count": 7,
     "metadata": {},
     "output_type": "execute_result"
    }
   ],
   "source": [
    "# 새로운 변수 생성\n",
    "df['year']=df['timestamp'].dt.year # 연도\n",
    "df['month']=df['timestamp'].dt.month # 달\n",
    "df['dayofweek']=df['timestamp'].dt.dayofweek # 요일\n",
    "df['hour']=df['timestamp'].dt.hour # 시간\n",
    "df.head()"
   ]
  },
  {
   "cell_type": "code",
   "execution_count": 8,
   "metadata": {
    "execution": {
     "iopub.execute_input": "2022-02-04T13:59:59.592098Z",
     "iopub.status.busy": "2022-02-04T13:59:59.591366Z",
     "iopub.status.idle": "2022-02-04T13:59:59.602986Z",
     "shell.execute_reply": "2022-02-04T13:59:59.602442Z",
     "shell.execute_reply.started": "2022-01-30T02:04:12.424045Z"
    },
    "papermill": {
     "duration": 0.086879,
     "end_time": "2022-02-04T13:59:59.603139",
     "exception": false,
     "start_time": "2022-02-04T13:59:59.516260",
     "status": "completed"
    },
    "tags": []
   },
   "outputs": [
    {
     "data": {
      "text/plain": [
       "2016    8699\n",
       "2015    8643\n",
       "2017      72\n",
       "Name: year, dtype: int64"
      ]
     },
     "execution_count": 8,
     "metadata": {},
     "output_type": "execute_result"
    }
   ],
   "source": [
    "# 탐색적 분석\n",
    "df['year'].value_counts()"
   ]
  },
  {
   "cell_type": "code",
   "execution_count": 9,
   "metadata": {
    "execution": {
     "iopub.execute_input": "2022-02-04T13:59:59.755512Z",
     "iopub.status.busy": "2022-02-04T13:59:59.751194Z",
     "iopub.status.idle": "2022-02-04T13:59:59.759639Z",
     "shell.execute_reply": "2022-02-04T13:59:59.758796Z",
     "shell.execute_reply.started": "2022-01-30T02:04:44.211262Z"
    },
    "papermill": {
     "duration": 0.083564,
     "end_time": "2022-02-04T13:59:59.759790",
     "exception": false,
     "start_time": "2022-02-04T13:59:59.676226",
     "status": "completed"
    },
    "tags": []
   },
   "outputs": [
    {
     "data": {
      "text/plain": [
       "5     1488\n",
       "1     1487\n",
       "8     1484\n",
       "12    1484\n",
       "7     1481\n",
       "10    1479\n",
       "3     1468\n",
       "4     1438\n",
       "11    1430\n",
       "6     1422\n",
       "9     1394\n",
       "2     1359\n",
       "Name: month, dtype: int64"
      ]
     },
     "execution_count": 9,
     "metadata": {},
     "output_type": "execute_result"
    }
   ],
   "source": [
    "df['month'].value_counts()"
   ]
  },
  {
   "cell_type": "code",
   "execution_count": 10,
   "metadata": {
    "execution": {
     "iopub.execute_input": "2022-02-04T13:59:59.910287Z",
     "iopub.status.busy": "2022-02-04T13:59:59.909580Z",
     "iopub.status.idle": "2022-02-04T13:59:59.912195Z",
     "shell.execute_reply": "2022-02-04T13:59:59.912707Z",
     "shell.execute_reply.started": "2022-01-30T02:04:51.208125Z"
    },
    "papermill": {
     "duration": 0.080874,
     "end_time": "2022-02-04T13:59:59.912883",
     "exception": false,
     "start_time": "2022-02-04T13:59:59.832009",
     "status": "completed"
    },
    "tags": []
   },
   "outputs": [
    {
     "data": {
      "text/plain": [
       "0    2508\n",
       "6    2505\n",
       "1    2505\n",
       "3    2492\n",
       "2    2489\n",
       "5    2465\n",
       "4    2450\n",
       "Name: dayofweek, dtype: int64"
      ]
     },
     "execution_count": 10,
     "metadata": {},
     "output_type": "execute_result"
    }
   ],
   "source": [
    "df['dayofweek'].value_counts()"
   ]
  },
  {
   "cell_type": "code",
   "execution_count": 11,
   "metadata": {
    "execution": {
     "iopub.execute_input": "2022-02-04T14:00:00.062947Z",
     "iopub.status.busy": "2022-02-04T14:00:00.062309Z",
     "iopub.status.idle": "2022-02-04T14:00:00.069352Z",
     "shell.execute_reply": "2022-02-04T14:00:00.069835Z",
     "shell.execute_reply.started": "2022-01-30T02:04:55.49755Z"
    },
    "papermill": {
     "duration": 0.084974,
     "end_time": "2022-02-04T14:00:00.070033",
     "exception": false,
     "start_time": "2022-02-04T13:59:59.985059",
     "status": "completed"
    },
    "tags": []
   },
   "outputs": [
    {
     "data": {
      "text/plain": [
       "16    730\n",
       "12    729\n",
       "15    729\n",
       "18    728\n",
       "17    728\n",
       "13    728\n",
       "14    728\n",
       "20    727\n",
       "19    727\n",
       "9     727\n",
       "11    727\n",
       "21    726\n",
       "6     726\n",
       "7     726\n",
       "22    725\n",
       "10    725\n",
       "0     724\n",
       "1     724\n",
       "8     724\n",
       "23    722\n",
       "5     721\n",
       "4     721\n",
       "3     721\n",
       "2     721\n",
       "Name: hour, dtype: int64"
      ]
     },
     "execution_count": 11,
     "metadata": {},
     "output_type": "execute_result"
    }
   ],
   "source": [
    "df['hour'].value_counts()"
   ]
  },
  {
   "cell_type": "markdown",
   "metadata": {
    "papermill": {
     "duration": 0.079735,
     "end_time": "2022-02-04T14:00:00.226992",
     "exception": false,
     "start_time": "2022-02-04T14:00:00.147257",
     "status": "completed"
    },
    "tags": []
   },
   "source": [
    "그래프를 통한 기초 데이터 분석"
   ]
  },
  {
   "cell_type": "code",
   "execution_count": 12,
   "metadata": {
    "execution": {
     "iopub.execute_input": "2022-02-04T14:00:00.387423Z",
     "iopub.status.busy": "2022-02-04T14:00:00.386522Z",
     "iopub.status.idle": "2022-02-04T14:00:00.650849Z",
     "shell.execute_reply": "2022-02-04T14:00:00.651399Z",
     "shell.execute_reply.started": "2022-01-30T02:07:31.883823Z"
    },
    "papermill": {
     "duration": 0.347406,
     "end_time": "2022-02-04T14:00:00.651579",
     "exception": false,
     "start_time": "2022-02-04T14:00:00.304173",
     "status": "completed"
    },
    "tags": []
   },
   "outputs": [
    {
     "name": "stderr",
     "output_type": "stream",
     "text": [
      "/opt/conda/lib/python3.7/site-packages/seaborn/_decorators.py:43: FutureWarning: Pass the following variables as keyword args: x, y. From version 0.12, the only valid positional argument will be `data`, and passing other arguments without an explicit keyword will result in an error or misinterpretation.\n",
      "  FutureWarning\n"
     ]
    },
    {
     "data": {
      "text/plain": [
       "<AxesSubplot:xlabel='year', ylabel='cnt'>"
      ]
     },
     "execution_count": 12,
     "metadata": {},
     "output_type": "execute_result"
    },
    {
     "data": {
      "image/png": "[encoded data removed]",
      "text/plain": [
       "<Figure size 720x360 with 1 Axes>"
      ]
     },
     "metadata": {
      "needs_background": "light"
     },
     "output_type": "display_data"
    }
   ],
   "source": [
    "a,b=plt.subplots(1,1,figsize=(10,5))\n",
    "sns.boxplot(df['year'],df['cnt'])"
   ]
  },
  {
   "cell_type": "code",
   "execution_count": 13,
   "metadata": {
    "execution": {
     "iopub.execute_input": "2022-02-04T14:00:00.818206Z",
     "iopub.status.busy": "2022-02-04T14:00:00.817198Z",
     "iopub.status.idle": "2022-02-04T14:00:01.246279Z",
     "shell.execute_reply": "2022-02-04T14:00:01.246744Z",
     "shell.execute_reply.started": "2022-01-30T02:08:20.934524Z"
    },
    "papermill": {
     "duration": 0.512885,
     "end_time": "2022-02-04T14:00:01.246929",
     "exception": false,
     "start_time": "2022-02-04T14:00:00.734044",
     "status": "completed"
    },
    "tags": []
   },
   "outputs": [
    {
     "name": "stderr",
     "output_type": "stream",
     "text": [
      "/opt/conda/lib/python3.7/site-packages/seaborn/_decorators.py:43: FutureWarning: Pass the following variables as keyword args: x, y. From version 0.12, the only valid positional argument will be `data`, and passing other arguments without an explicit keyword will result in an error or misinterpretation.\n",
      "  FutureWarning\n"
     ]
    },
    {
     "data": {
      "text/plain": [
       "<AxesSubplot:xlabel='month', ylabel='cnt'>"
      ]
     },
     "execution_count": 13,
     "metadata": {},
     "output_type": "execute_result"
    },
    {
     "data": {
      "image/png": "[encoded data removed]",
      "text/plain": [
       "<Figure size 720x360 with 1 Axes>"
      ]
     },
     "metadata": {
      "needs_background": "light"
     },
     "output_type": "display_data"
    }
   ],
   "source": [
    "a,b=plt.subplots(1,1,figsize=(10,5))\n",
    "sns.boxplot(df['month'],df['cnt'])"
   ]
  },
  {
   "cell_type": "code",
   "execution_count": 14,
   "metadata": {
    "execution": {
     "iopub.execute_input": "2022-02-04T14:00:01.405884Z",
     "iopub.status.busy": "2022-02-04T14:00:01.404836Z",
     "iopub.status.idle": "2022-02-04T14:00:01.742843Z",
     "shell.execute_reply": "2022-02-04T14:00:01.742286Z",
     "shell.execute_reply.started": "2022-01-30T02:08:30.874609Z"
    },
    "papermill": {
     "duration": 0.416801,
     "end_time": "2022-02-04T14:00:01.743006",
     "exception": false,
     "start_time": "2022-02-04T14:00:01.326205",
     "status": "completed"
    },
    "tags": []
   },
   "outputs": [
    {
     "name": "stderr",
     "output_type": "stream",
     "text": [
      "/opt/conda/lib/python3.7/site-packages/seaborn/_decorators.py:43: FutureWarning: Pass the following variables as keyword args: x, y. From version 0.12, the only valid positional argument will be `data`, and passing other arguments without an explicit keyword will result in an error or misinterpretation.\n",
      "  FutureWarning\n"
     ]
    },
    {
     "data": {
      "text/plain": [
       "<AxesSubplot:xlabel='dayofweek', ylabel='cnt'>"
      ]
     },
     "execution_count": 14,
     "metadata": {},
     "output_type": "execute_result"
    },
    {
     "data": {
      "image/png": "[encoded data removed]",
      "text/plain": [
       "<Figure size 720x360 with 1 Axes>"
      ]
     },
     "metadata": {
      "needs_background": "light"
     },
     "output_type": "display_data"
    }
   ],
   "source": [
    "a,b=plt.subplots(1,1,figsize=(10,5))\n",
    "sns.boxplot(df['dayofweek'],df['cnt'])"
   ]
  },
  {
   "cell_type": "code",
   "execution_count": 15,
   "metadata": {
    "execution": {
     "iopub.execute_input": "2022-02-04T14:00:01.908267Z",
     "iopub.status.busy": "2022-02-04T14:00:01.907581Z",
     "iopub.status.idle": "2022-02-04T14:00:02.683475Z",
     "shell.execute_reply": "2022-02-04T14:00:02.684354Z",
     "shell.execute_reply.started": "2022-01-30T02:08:36.780945Z"
    },
    "papermill": {
     "duration": 0.861766,
     "end_time": "2022-02-04T14:00:02.684661",
     "exception": false,
     "start_time": "2022-02-04T14:00:01.822895",
     "status": "completed"
    },
    "tags": []
   },
   "outputs": [
    {
     "name": "stderr",
     "output_type": "stream",
     "text": [
      "/opt/conda/lib/python3.7/site-packages/seaborn/_decorators.py:43: FutureWarning: Pass the following variables as keyword args: x, y. From version 0.12, the only valid positional argument will be `data`, and passing other arguments without an explicit keyword will result in an error or misinterpretation.\n",
      "  FutureWarning\n"
     ]
    },
    {
     "data": {
      "text/plain": [
       "<AxesSubplot:xlabel='hour', ylabel='cnt'>"
      ]
     },
     "execution_count": 15,
     "metadata": {},
     "output_type": "execute_result"
    },
    {
     "data": {
      "image/png": "[encoded data removed]",
      "text/plain": [
       "<Figure size 720x360 with 1 Axes>"
      ]
     },
     "metadata": {
      "needs_background": "light"
     },
     "output_type": "display_data"
    }
   ],
   "source": [
    "a,b=plt.subplots(1,1,figsize=(10,5))\n",
    "sns.boxplot(df['hour'],df['cnt']) # 출퇴근 시간에 증가"
   ]
  },
  {
   "cell_type": "code",
   "execution_count": 16,
   "metadata": {
    "execution": {
     "iopub.execute_input": "2022-02-04T14:00:02.852258Z",
     "iopub.status.busy": "2022-02-04T14:00:02.851559Z",
     "iopub.status.idle": "2022-02-04T14:00:02.857933Z",
     "shell.execute_reply": "2022-02-04T14:00:02.857331Z",
     "shell.execute_reply.started": "2022-01-30T02:11:01.420168Z"
    },
    "papermill": {
     "duration": 0.090829,
     "end_time": "2022-02-04T14:00:02.858116",
     "exception": false,
     "start_time": "2022-02-04T14:00:02.767287",
     "status": "completed"
    },
    "tags": []
   },
   "outputs": [],
   "source": [
    "# 그래프 함수 만들기\n",
    "\n",
    "def plot_bar(data,feature):\n",
    "    fig=plt.figure(figsize=(12,3))\n",
    "    sns.barplot(x=feature,y='cnt',data=data,palette='Set3')"
   ]
  },
  {
   "cell_type": "code",
   "execution_count": 17,
   "metadata": {
    "execution": {
     "iopub.execute_input": "2022-02-04T14:00:03.024485Z",
     "iopub.status.busy": "2022-02-04T14:00:03.023744Z",
     "iopub.status.idle": "2022-02-04T14:00:04.496801Z",
     "shell.execute_reply": "2022-02-04T14:00:04.496242Z",
     "shell.execute_reply.started": "2022-01-30T02:11:02.312895Z"
    },
    "papermill": {
     "duration": 1.557204,
     "end_time": "2022-02-04T14:00:04.497226",
     "exception": false,
     "start_time": "2022-02-04T14:00:02.940022",
     "status": "completed"
    },
    "tags": []
   },
   "outputs": [
    {
     "data": {
      "image/png": "[encoded data removed]",
      "text/plain": [
       "<Figure size 864x216 with 1 Axes>"
      ]
     },
     "metadata": {
      "needs_background": "light"
     },
     "output_type": "display_data"
    }
   ],
   "source": [
    "plot_bar(df,'hour')"
   ]
  },
  {
   "cell_type": "code",
   "execution_count": 18,
   "metadata": {
    "execution": {
     "iopub.execute_input": "2022-02-04T14:00:04.669908Z",
     "iopub.status.busy": "2022-02-04T14:00:04.669209Z",
     "iopub.status.idle": "2022-02-04T14:00:05.369835Z",
     "shell.execute_reply": "2022-02-04T14:00:05.369095Z",
     "shell.execute_reply.started": "2022-01-30T02:11:38.669135Z"
    },
    "papermill": {
     "duration": 0.785862,
     "end_time": "2022-02-04T14:00:05.370014",
     "exception": false,
     "start_time": "2022-02-04T14:00:04.584152",
     "status": "completed"
    },
    "tags": []
   },
   "outputs": [
    {
     "data": {
      "image/png": "[encoded data removed]",
      "text/plain": [
       "<Figure size 864x216 with 1 Axes>"
      ]
     },
     "metadata": {
      "needs_background": "light"
     },
     "output_type": "display_data"
    }
   ],
   "source": [
    "plot_bar(df,'dayofweek')"
   ]
  },
  {
   "cell_type": "code",
   "execution_count": 19,
   "metadata": {
    "execution": {
     "iopub.execute_input": "2022-02-04T14:00:05.553900Z",
     "iopub.status.busy": "2022-02-04T14:00:05.552815Z",
     "iopub.status.idle": "2022-02-04T14:00:05.554769Z",
     "shell.execute_reply": "2022-02-04T14:00:05.555453Z",
     "shell.execute_reply.started": "2022-01-30T02:16:12.474256Z"
    },
    "papermill": {
     "duration": 0.099961,
     "end_time": "2022-02-04T14:00:05.555644",
     "exception": false,
     "start_time": "2022-02-04T14:00:05.455683",
     "status": "completed"
    },
    "tags": []
   },
   "outputs": [],
   "source": [
    "# outlier 제거 - 시그마 방법 사용\n",
    "\n",
    "\n",
    "def is_outliers(s):\n",
    "    lower_limit=s.mean()-s.std()*3\n",
    "    upper_limit=s.mean()+s.std()*3\n",
    "    return ~s.between(lower_limit,upper_limit)"
   ]
  },
  {
   "cell_type": "code",
   "execution_count": 20,
   "metadata": {
    "execution": {
     "iopub.execute_input": "2022-02-04T14:00:05.734648Z",
     "iopub.status.busy": "2022-02-04T14:00:05.733587Z",
     "iopub.status.idle": "2022-02-04T14:00:05.771596Z",
     "shell.execute_reply": "2022-02-04T14:00:05.770271Z",
     "shell.execute_reply.started": "2022-01-30T02:16:13.012687Z"
    },
    "papermill": {
     "duration": 0.127903,
     "end_time": "2022-02-04T14:00:05.771829",
     "exception": false,
     "start_time": "2022-02-04T14:00:05.643926",
     "status": "completed"
    },
    "tags": []
   },
   "outputs": [
    {
     "name": "stdout",
     "output_type": "stream",
     "text": [
      "이상치 제거 전:  (17414, 14)\n",
      "이상치 제거 후:  (17265, 14)\n"
     ]
    }
   ],
   "source": [
    "df_out=df[~df.groupby('hour')['cnt'].apply(is_outliers)]\n",
    "print(\"이상치 제거 전: \",df.shape)\n",
    "print(\"이상치 제거 후: \",df_out.shape)"
   ]
  },
  {
   "cell_type": "code",
   "execution_count": 21,
   "metadata": {
    "execution": {
     "iopub.execute_input": "2022-02-04T14:00:05.950580Z",
     "iopub.status.busy": "2022-02-04T14:00:05.949792Z",
     "iopub.status.idle": "2022-02-04T14:00:05.959090Z",
     "shell.execute_reply": "2022-02-04T14:00:05.959619Z",
     "shell.execute_reply.started": "2022-01-30T02:16:36.380261Z"
    },
    "papermill": {
     "duration": 0.099029,
     "end_time": "2022-02-04T14:00:05.959836",
     "exception": false,
     "start_time": "2022-02-04T14:00:05.860807",
     "status": "completed"
    },
    "tags": []
   },
   "outputs": [
    {
     "data": {
      "text/plain": [
       "timestamp       datetime64[ns]\n",
       "cnt                      int64\n",
       "t1                     float64\n",
       "t2                     float64\n",
       "hum                    float64\n",
       "wind_speed             float64\n",
       "weather_code           float64\n",
       "is_holiday             float64\n",
       "is_weekend             float64\n",
       "season                 float64\n",
       "year                     int64\n",
       "month                    int64\n",
       "dayofweek                int64\n",
       "hour                     int64\n",
       "dtype: object"
      ]
     },
     "execution_count": 21,
     "metadata": {},
     "output_type": "execute_result"
    }
   ],
   "source": [
    "df_out.dtypes"
   ]
  },
  {
   "cell_type": "code",
   "execution_count": 22,
   "metadata": {
    "execution": {
     "iopub.execute_input": "2022-02-04T14:00:06.135349Z",
     "iopub.status.busy": "2022-02-04T14:00:06.134142Z",
     "iopub.status.idle": "2022-02-04T14:00:06.153350Z",
     "shell.execute_reply": "2022-02-04T14:00:06.154089Z",
     "shell.execute_reply.started": "2022-01-30T02:19:20.924356Z"
    },
    "papermill": {
     "duration": 0.107964,
     "end_time": "2022-02-04T14:00:06.154353",
     "exception": false,
     "start_time": "2022-02-04T14:00:06.046389",
     "status": "completed"
    },
    "tags": []
   },
   "outputs": [
    {
     "name": "stderr",
     "output_type": "stream",
     "text": [
      "/opt/conda/lib/python3.7/site-packages/ipykernel_launcher.py:2: SettingWithCopyWarning: \n",
      "A value is trying to be set on a copy of a slice from a DataFrame.\n",
      "Try using .loc[row_indexer,col_indexer] = value instead\n",
      "\n",
      "See the caveats in the documentation: https://pandas.pydata.org/pandas-docs/stable/user_guide/indexing.html#returning-a-view-versus-a-copy\n",
      "  \n",
      "/opt/conda/lib/python3.7/site-packages/ipykernel_launcher.py:3: SettingWithCopyWarning: \n",
      "A value is trying to be set on a copy of a slice from a DataFrame.\n",
      "Try using .loc[row_indexer,col_indexer] = value instead\n",
      "\n",
      "See the caveats in the documentation: https://pandas.pydata.org/pandas-docs/stable/user_guide/indexing.html#returning-a-view-versus-a-copy\n",
      "  This is separate from the ipykernel package so we can avoid doing imports until\n",
      "/opt/conda/lib/python3.7/site-packages/ipykernel_launcher.py:4: SettingWithCopyWarning: \n",
      "A value is trying to be set on a copy of a slice from a DataFrame.\n",
      "Try using .loc[row_indexer,col_indexer] = value instead\n",
      "\n",
      "See the caveats in the documentation: https://pandas.pydata.org/pandas-docs/stable/user_guide/indexing.html#returning-a-view-versus-a-copy\n",
      "  after removing the cwd from sys.path.\n",
      "/opt/conda/lib/python3.7/site-packages/ipykernel_launcher.py:5: SettingWithCopyWarning: \n",
      "A value is trying to be set on a copy of a slice from a DataFrame.\n",
      "Try using .loc[row_indexer,col_indexer] = value instead\n",
      "\n",
      "See the caveats in the documentation: https://pandas.pydata.org/pandas-docs/stable/user_guide/indexing.html#returning-a-view-versus-a-copy\n",
      "  \"\"\"\n",
      "/opt/conda/lib/python3.7/site-packages/ipykernel_launcher.py:6: SettingWithCopyWarning: \n",
      "A value is trying to be set on a copy of a slice from a DataFrame.\n",
      "Try using .loc[row_indexer,col_indexer] = value instead\n",
      "\n",
      "See the caveats in the documentation: https://pandas.pydata.org/pandas-docs/stable/user_guide/indexing.html#returning-a-view-versus-a-copy\n",
      "  \n"
     ]
    }
   ],
   "source": [
    "# category 변환\n",
    "df_out['weather_code']=df_out['weather_code'].astype(\"category\")\n",
    "df_out['season']=df_out['season'].astype(\"category\")\n",
    "df_out['year']=df_out['year'].astype(\"category\")\n",
    "df_out['month']=df_out['month'].astype(\"category\")\n",
    "df_out['hour']=df_out['hour'].astype(\"category\")"
   ]
  },
  {
   "cell_type": "code",
   "execution_count": 23,
   "metadata": {
    "execution": {
     "iopub.execute_input": "2022-02-04T14:00:06.332133Z",
     "iopub.status.busy": "2022-02-04T14:00:06.331066Z",
     "iopub.status.idle": "2022-02-04T14:00:06.336427Z",
     "shell.execute_reply": "2022-02-04T14:00:06.335738Z",
     "shell.execute_reply.started": "2022-01-30T02:19:21.840978Z"
    },
    "papermill": {
     "duration": 0.099921,
     "end_time": "2022-02-04T14:00:06.336583",
     "exception": false,
     "start_time": "2022-02-04T14:00:06.236662",
     "status": "completed"
    },
    "tags": []
   },
   "outputs": [
    {
     "data": {
      "text/plain": [
       "timestamp       datetime64[ns]\n",
       "cnt                      int64\n",
       "t1                     float64\n",
       "t2                     float64\n",
       "hum                    float64\n",
       "wind_speed             float64\n",
       "weather_code          category\n",
       "is_holiday             float64\n",
       "is_weekend             float64\n",
       "season                category\n",
       "year                  category\n",
       "month                 category\n",
       "dayofweek                int64\n",
       "hour                  category\n",
       "dtype: object"
      ]
     },
     "execution_count": 23,
     "metadata": {},
     "output_type": "execute_result"
    }
   ],
   "source": [
    "df_out.dtypes"
   ]
  },
  {
   "cell_type": "code",
   "execution_count": 24,
   "metadata": {
    "execution": {
     "iopub.execute_input": "2022-02-04T14:00:06.509311Z",
     "iopub.status.busy": "2022-02-04T14:00:06.508589Z",
     "iopub.status.idle": "2022-02-04T14:00:06.552157Z",
     "shell.execute_reply": "2022-02-04T14:00:06.551512Z",
     "shell.execute_reply.started": "2022-01-30T02:20:34.577318Z"
    },
    "papermill": {
     "duration": 0.128118,
     "end_time": "2022-02-04T14:00:06.552316",
     "exception": false,
     "start_time": "2022-02-04T14:00:06.424198",
     "status": "completed"
    },
    "tags": []
   },
   "outputs": [
    {
     "data": {
      "text/html": [
       "<div>\n",
       "<style scoped>\n",
       "    .dataframe tbody tr th:only-of-type {\n",
       "        vertical-align: middle;\n",
       "    }\n",
       "\n",
       "    .dataframe tbody tr th {\n",
       "        vertical-align: top;\n",
       "    }\n",
       "\n",
       "    .dataframe thead th {\n",
       "        text-align: right;\n",
       "    }\n",
       "</style>\n",
       "<table border=\"1\" class=\"dataframe\">\n",
       "  <thead>\n",
       "    <tr style=\"text-align: right;\">\n",
       "      <th></th>\n",
       "      <th>timestamp</th>\n",
       "      <th>cnt</th>\n",
       "      <th>t1</th>\n",
       "      <th>t2</th>\n",
       "      <th>hum</th>\n",
       "      <th>wind_speed</th>\n",
       "      <th>is_holiday</th>\n",
       "      <th>is_weekend</th>\n",
       "      <th>dayofweek</th>\n",
       "      <th>weather_code_1.0</th>\n",
       "      <th>...</th>\n",
       "      <th>hour_14</th>\n",
       "      <th>hour_15</th>\n",
       "      <th>hour_16</th>\n",
       "      <th>hour_17</th>\n",
       "      <th>hour_18</th>\n",
       "      <th>hour_19</th>\n",
       "      <th>hour_20</th>\n",
       "      <th>hour_21</th>\n",
       "      <th>hour_22</th>\n",
       "      <th>hour_23</th>\n",
       "    </tr>\n",
       "  </thead>\n",
       "  <tbody>\n",
       "    <tr>\n",
       "      <th>0</th>\n",
       "      <td>2015-01-04 00:00:00</td>\n",
       "      <td>182</td>\n",
       "      <td>3.0</td>\n",
       "      <td>2.0</td>\n",
       "      <td>93.0</td>\n",
       "      <td>6.0</td>\n",
       "      <td>0.0</td>\n",
       "      <td>1.0</td>\n",
       "      <td>6</td>\n",
       "      <td>0</td>\n",
       "      <td>...</td>\n",
       "      <td>0</td>\n",
       "      <td>0</td>\n",
       "      <td>0</td>\n",
       "      <td>0</td>\n",
       "      <td>0</td>\n",
       "      <td>0</td>\n",
       "      <td>0</td>\n",
       "      <td>0</td>\n",
       "      <td>0</td>\n",
       "      <td>0</td>\n",
       "    </tr>\n",
       "    <tr>\n",
       "      <th>1</th>\n",
       "      <td>2015-01-04 01:00:00</td>\n",
       "      <td>138</td>\n",
       "      <td>3.0</td>\n",
       "      <td>2.5</td>\n",
       "      <td>93.0</td>\n",
       "      <td>5.0</td>\n",
       "      <td>0.0</td>\n",
       "      <td>1.0</td>\n",
       "      <td>6</td>\n",
       "      <td>1</td>\n",
       "      <td>...</td>\n",
       "      <td>0</td>\n",
       "      <td>0</td>\n",
       "      <td>0</td>\n",
       "      <td>0</td>\n",
       "      <td>0</td>\n",
       "      <td>0</td>\n",
       "      <td>0</td>\n",
       "      <td>0</td>\n",
       "      <td>0</td>\n",
       "      <td>0</td>\n",
       "    </tr>\n",
       "    <tr>\n",
       "      <th>2</th>\n",
       "      <td>2015-01-04 02:00:00</td>\n",
       "      <td>134</td>\n",
       "      <td>2.5</td>\n",
       "      <td>2.5</td>\n",
       "      <td>96.5</td>\n",
       "      <td>0.0</td>\n",
       "      <td>0.0</td>\n",
       "      <td>1.0</td>\n",
       "      <td>6</td>\n",
       "      <td>1</td>\n",
       "      <td>...</td>\n",
       "      <td>0</td>\n",
       "      <td>0</td>\n",
       "      <td>0</td>\n",
       "      <td>0</td>\n",
       "      <td>0</td>\n",
       "      <td>0</td>\n",
       "      <td>0</td>\n",
       "      <td>0</td>\n",
       "      <td>0</td>\n",
       "      <td>0</td>\n",
       "    </tr>\n",
       "    <tr>\n",
       "      <th>3</th>\n",
       "      <td>2015-01-04 03:00:00</td>\n",
       "      <td>72</td>\n",
       "      <td>2.0</td>\n",
       "      <td>2.0</td>\n",
       "      <td>100.0</td>\n",
       "      <td>0.0</td>\n",
       "      <td>0.0</td>\n",
       "      <td>1.0</td>\n",
       "      <td>6</td>\n",
       "      <td>1</td>\n",
       "      <td>...</td>\n",
       "      <td>0</td>\n",
       "      <td>0</td>\n",
       "      <td>0</td>\n",
       "      <td>0</td>\n",
       "      <td>0</td>\n",
       "      <td>0</td>\n",
       "      <td>0</td>\n",
       "      <td>0</td>\n",
       "      <td>0</td>\n",
       "      <td>0</td>\n",
       "    </tr>\n",
       "    <tr>\n",
       "      <th>4</th>\n",
       "      <td>2015-01-04 04:00:00</td>\n",
       "      <td>47</td>\n",
       "      <td>2.0</td>\n",
       "      <td>0.0</td>\n",
       "      <td>93.0</td>\n",
       "      <td>6.5</td>\n",
       "      <td>0.0</td>\n",
       "      <td>1.0</td>\n",
       "      <td>6</td>\n",
       "      <td>1</td>\n",
       "      <td>...</td>\n",
       "      <td>0</td>\n",
       "      <td>0</td>\n",
       "      <td>0</td>\n",
       "      <td>0</td>\n",
       "      <td>0</td>\n",
       "      <td>0</td>\n",
       "      <td>0</td>\n",
       "      <td>0</td>\n",
       "      <td>0</td>\n",
       "      <td>0</td>\n",
       "    </tr>\n",
       "  </tbody>\n",
       "</table>\n",
       "<p>5 rows × 59 columns</p>\n",
       "</div>"
      ],
      "text/plain": [
       "            timestamp  cnt   t1   t2    hum  wind_speed  is_holiday  \\\n",
       "0 2015-01-04 00:00:00  182  3.0  2.0   93.0         6.0         0.0   \n",
       "1 2015-01-04 01:00:00  138  3.0  2.5   93.0         5.0         0.0   \n",
       "2 2015-01-04 02:00:00  134  2.5  2.5   96.5         0.0         0.0   \n",
       "3 2015-01-04 03:00:00   72  2.0  2.0  100.0         0.0         0.0   \n",
       "4 2015-01-04 04:00:00   47  2.0  0.0   93.0         6.5         0.0   \n",
       "\n",
       "   is_weekend  dayofweek  weather_code_1.0  ...  hour_14  hour_15  hour_16  \\\n",
       "0         1.0          6                 0  ...        0        0        0   \n",
       "1         1.0          6                 1  ...        0        0        0   \n",
       "2         1.0          6                 1  ...        0        0        0   \n",
       "3         1.0          6                 1  ...        0        0        0   \n",
       "4         1.0          6                 1  ...        0        0        0   \n",
       "\n",
       "   hour_17  hour_18  hour_19  hour_20  hour_21  hour_22  hour_23  \n",
       "0        0        0        0        0        0        0        0  \n",
       "1        0        0        0        0        0        0        0  \n",
       "2        0        0        0        0        0        0        0  \n",
       "3        0        0        0        0        0        0        0  \n",
       "4        0        0        0        0        0        0        0  \n",
       "\n",
       "[5 rows x 59 columns]"
      ]
     },
     "execution_count": 24,
     "metadata": {},
     "output_type": "execute_result"
    }
   ],
   "source": [
    "# dummy 처리\n",
    "df_out=pd.get_dummies(df_out,columns=['weather_code','season','year','month','hour'])\n",
    "df_out.head()"
   ]
  },
  {
   "cell_type": "code",
   "execution_count": 25,
   "metadata": {
    "execution": {
     "iopub.execute_input": "2022-02-04T14:00:06.757064Z",
     "iopub.status.busy": "2022-02-04T14:00:06.753836Z",
     "iopub.status.idle": "2022-02-04T14:00:06.760695Z",
     "shell.execute_reply": "2022-02-04T14:00:06.761371Z",
     "shell.execute_reply.started": "2022-01-30T02:21:16.282791Z"
    },
    "papermill": {
     "duration": 0.121338,
     "end_time": "2022-02-04T14:00:06.761569",
     "exception": false,
     "start_time": "2022-02-04T14:00:06.640231",
     "status": "completed"
    },
    "tags": []
   },
   "outputs": [
    {
     "data": {
      "text/plain": [
       "(17265, 59)"
      ]
     },
     "execution_count": 25,
     "metadata": {},
     "output_type": "execute_result"
    }
   ],
   "source": [
    "df_out.shape"
   ]
  },
  {
   "cell_type": "code",
   "execution_count": 26,
   "metadata": {
    "execution": {
     "iopub.execute_input": "2022-02-04T14:00:06.941676Z",
     "iopub.status.busy": "2022-02-04T14:00:06.940237Z",
     "iopub.status.idle": "2022-02-04T14:00:06.965913Z",
     "shell.execute_reply": "2022-02-04T14:00:06.965324Z",
     "shell.execute_reply.started": "2022-01-30T02:22:06.848143Z"
    },
    "papermill": {
     "duration": 0.118156,
     "end_time": "2022-02-04T14:00:06.966111",
     "exception": false,
     "start_time": "2022-02-04T14:00:06.847955",
     "status": "completed"
    },
    "tags": []
   },
   "outputs": [
    {
     "data": {
      "text/html": [
       "<div>\n",
       "<style scoped>\n",
       "    .dataframe tbody tr th:only-of-type {\n",
       "        vertical-align: middle;\n",
       "    }\n",
       "\n",
       "    .dataframe tbody tr th {\n",
       "        vertical-align: top;\n",
       "    }\n",
       "\n",
       "    .dataframe thead th {\n",
       "        text-align: right;\n",
       "    }\n",
       "</style>\n",
       "<table border=\"1\" class=\"dataframe\">\n",
       "  <thead>\n",
       "    <tr style=\"text-align: right;\">\n",
       "      <th></th>\n",
       "      <th>t1</th>\n",
       "      <th>t2</th>\n",
       "      <th>hum</th>\n",
       "      <th>wind_speed</th>\n",
       "      <th>is_holiday</th>\n",
       "      <th>is_weekend</th>\n",
       "      <th>dayofweek</th>\n",
       "      <th>weather_code_1.0</th>\n",
       "      <th>weather_code_2.0</th>\n",
       "      <th>weather_code_3.0</th>\n",
       "      <th>...</th>\n",
       "      <th>hour_14</th>\n",
       "      <th>hour_15</th>\n",
       "      <th>hour_16</th>\n",
       "      <th>hour_17</th>\n",
       "      <th>hour_18</th>\n",
       "      <th>hour_19</th>\n",
       "      <th>hour_20</th>\n",
       "      <th>hour_21</th>\n",
       "      <th>hour_22</th>\n",
       "      <th>hour_23</th>\n",
       "    </tr>\n",
       "  </thead>\n",
       "  <tbody>\n",
       "    <tr>\n",
       "      <th>0</th>\n",
       "      <td>3.0</td>\n",
       "      <td>2.0</td>\n",
       "      <td>93.0</td>\n",
       "      <td>6.0</td>\n",
       "      <td>0.0</td>\n",
       "      <td>1.0</td>\n",
       "      <td>6</td>\n",
       "      <td>0</td>\n",
       "      <td>0</td>\n",
       "      <td>1</td>\n",
       "      <td>...</td>\n",
       "      <td>0</td>\n",
       "      <td>0</td>\n",
       "      <td>0</td>\n",
       "      <td>0</td>\n",
       "      <td>0</td>\n",
       "      <td>0</td>\n",
       "      <td>0</td>\n",
       "      <td>0</td>\n",
       "      <td>0</td>\n",
       "      <td>0</td>\n",
       "    </tr>\n",
       "    <tr>\n",
       "      <th>1</th>\n",
       "      <td>3.0</td>\n",
       "      <td>2.5</td>\n",
       "      <td>93.0</td>\n",
       "      <td>5.0</td>\n",
       "      <td>0.0</td>\n",
       "      <td>1.0</td>\n",
       "      <td>6</td>\n",
       "      <td>1</td>\n",
       "      <td>0</td>\n",
       "      <td>0</td>\n",
       "      <td>...</td>\n",
       "      <td>0</td>\n",
       "      <td>0</td>\n",
       "      <td>0</td>\n",
       "      <td>0</td>\n",
       "      <td>0</td>\n",
       "      <td>0</td>\n",
       "      <td>0</td>\n",
       "      <td>0</td>\n",
       "      <td>0</td>\n",
       "      <td>0</td>\n",
       "    </tr>\n",
       "    <tr>\n",
       "      <th>2</th>\n",
       "      <td>2.5</td>\n",
       "      <td>2.5</td>\n",
       "      <td>96.5</td>\n",
       "      <td>0.0</td>\n",
       "      <td>0.0</td>\n",
       "      <td>1.0</td>\n",
       "      <td>6</td>\n",
       "      <td>1</td>\n",
       "      <td>0</td>\n",
       "      <td>0</td>\n",
       "      <td>...</td>\n",
       "      <td>0</td>\n",
       "      <td>0</td>\n",
       "      <td>0</td>\n",
       "      <td>0</td>\n",
       "      <td>0</td>\n",
       "      <td>0</td>\n",
       "      <td>0</td>\n",
       "      <td>0</td>\n",
       "      <td>0</td>\n",
       "      <td>0</td>\n",
       "    </tr>\n",
       "    <tr>\n",
       "      <th>3</th>\n",
       "      <td>2.0</td>\n",
       "      <td>2.0</td>\n",
       "      <td>100.0</td>\n",
       "      <td>0.0</td>\n",
       "      <td>0.0</td>\n",
       "      <td>1.0</td>\n",
       "      <td>6</td>\n",
       "      <td>1</td>\n",
       "      <td>0</td>\n",
       "      <td>0</td>\n",
       "      <td>...</td>\n",
       "      <td>0</td>\n",
       "      <td>0</td>\n",
       "      <td>0</td>\n",
       "      <td>0</td>\n",
       "      <td>0</td>\n",
       "      <td>0</td>\n",
       "      <td>0</td>\n",
       "      <td>0</td>\n",
       "      <td>0</td>\n",
       "      <td>0</td>\n",
       "    </tr>\n",
       "    <tr>\n",
       "      <th>4</th>\n",
       "      <td>2.0</td>\n",
       "      <td>0.0</td>\n",
       "      <td>93.0</td>\n",
       "      <td>6.5</td>\n",
       "      <td>0.0</td>\n",
       "      <td>1.0</td>\n",
       "      <td>6</td>\n",
       "      <td>1</td>\n",
       "      <td>0</td>\n",
       "      <td>0</td>\n",
       "      <td>...</td>\n",
       "      <td>0</td>\n",
       "      <td>0</td>\n",
       "      <td>0</td>\n",
       "      <td>0</td>\n",
       "      <td>0</td>\n",
       "      <td>0</td>\n",
       "      <td>0</td>\n",
       "      <td>0</td>\n",
       "      <td>0</td>\n",
       "      <td>0</td>\n",
       "    </tr>\n",
       "  </tbody>\n",
       "</table>\n",
       "<p>5 rows × 57 columns</p>\n",
       "</div>"
      ],
      "text/plain": [
       "    t1   t2    hum  wind_speed  is_holiday  is_weekend  dayofweek  \\\n",
       "0  3.0  2.0   93.0         6.0         0.0         1.0          6   \n",
       "1  3.0  2.5   93.0         5.0         0.0         1.0          6   \n",
       "2  2.5  2.5   96.5         0.0         0.0         1.0          6   \n",
       "3  2.0  2.0  100.0         0.0         0.0         1.0          6   \n",
       "4  2.0  0.0   93.0         6.5         0.0         1.0          6   \n",
       "\n",
       "   weather_code_1.0  weather_code_2.0  weather_code_3.0  ...  hour_14  \\\n",
       "0                 0                 0                 1  ...        0   \n",
       "1                 1                 0                 0  ...        0   \n",
       "2                 1                 0                 0  ...        0   \n",
       "3                 1                 0                 0  ...        0   \n",
       "4                 1                 0                 0  ...        0   \n",
       "\n",
       "   hour_15  hour_16  hour_17  hour_18  hour_19  hour_20  hour_21  hour_22  \\\n",
       "0        0        0        0        0        0        0        0        0   \n",
       "1        0        0        0        0        0        0        0        0   \n",
       "2        0        0        0        0        0        0        0        0   \n",
       "3        0        0        0        0        0        0        0        0   \n",
       "4        0        0        0        0        0        0        0        0   \n",
       "\n",
       "   hour_23  \n",
       "0        0  \n",
       "1        0  \n",
       "2        0  \n",
       "3        0  \n",
       "4        0  \n",
       "\n",
       "[5 rows x 57 columns]"
      ]
     },
     "execution_count": 26,
     "metadata": {},
     "output_type": "execute_result"
    }
   ],
   "source": [
    "df_y=df_out['cnt']\n",
    "df_x=df_out.drop(['timestamp','cnt'],axis=1)\n",
    "df_x.head()"
   ]
  },
  {
   "cell_type": "code",
   "execution_count": 27,
   "metadata": {
    "execution": {
     "iopub.execute_input": "2022-02-04T14:00:07.158598Z",
     "iopub.status.busy": "2022-02-04T14:00:07.157046Z",
     "iopub.status.idle": "2022-02-04T14:00:07.165390Z",
     "shell.execute_reply": "2022-02-04T14:00:07.166010Z",
     "shell.execute_reply.started": "2022-01-30T02:22:18.026016Z"
    },
    "papermill": {
     "duration": 0.107019,
     "end_time": "2022-02-04T14:00:07.166218",
     "exception": false,
     "start_time": "2022-02-04T14:00:07.059199",
     "status": "completed"
    },
    "tags": []
   },
   "outputs": [
    {
     "data": {
      "text/plain": [
       "0    182\n",
       "1    138\n",
       "2    134\n",
       "3     72\n",
       "4     47\n",
       "Name: cnt, dtype: int64"
      ]
     },
     "execution_count": 27,
     "metadata": {},
     "output_type": "execute_result"
    }
   ],
   "source": [
    "df_y.head()"
   ]
  },
  {
   "cell_type": "code",
   "execution_count": 28,
   "metadata": {
    "execution": {
     "iopub.execute_input": "2022-02-04T14:00:07.351179Z",
     "iopub.status.busy": "2022-02-04T14:00:07.350019Z",
     "iopub.status.idle": "2022-02-04T14:00:07.580566Z",
     "shell.execute_reply": "2022-02-04T14:00:07.579927Z",
     "shell.execute_reply.started": "2022-01-30T02:24:35.237252Z"
    },
    "papermill": {
     "duration": 0.323491,
     "end_time": "2022-02-04T14:00:07.580723",
     "exception": false,
     "start_time": "2022-02-04T14:00:07.257232",
     "status": "completed"
    },
    "tags": []
   },
   "outputs": [],
   "source": [
    "# 훈련용, 테스트용 데이터 분리\n",
    "\n",
    "from sklearn.model_selection import train_test_split\n",
    "x_train,x_test,y_train,y_test=train_test_split(df_x,df_y,random_state=60,test_size=0.3,shuffle=False) # 시간 데이터니까 shuffle false"
   ]
  },
  {
   "cell_type": "code",
   "execution_count": 29,
   "metadata": {
    "execution": {
     "iopub.execute_input": "2022-02-04T14:00:07.758145Z",
     "iopub.status.busy": "2022-02-04T14:00:07.757179Z",
     "iopub.status.idle": "2022-02-04T14:00:07.764295Z",
     "shell.execute_reply": "2022-02-04T14:00:07.765101Z",
     "shell.execute_reply.started": "2022-01-30T02:25:40.7684Z"
    },
    "papermill": {
     "duration": 0.098856,
     "end_time": "2022-02-04T14:00:07.765352",
     "exception": false,
     "start_time": "2022-02-04T14:00:07.666496",
     "status": "completed"
    },
    "tags": []
   },
   "outputs": [
    {
     "name": "stdout",
     "output_type": "stream",
     "text": [
      "x_train의 구조는:  (12085, 57)\n",
      "y_train의 구조는:  (12085,)\n",
      "\n",
      "x_test의 구조는:  (5180, 57)\n",
      "y_test의 구조는:  (5180,)\n"
     ]
    }
   ],
   "source": [
    "print(\"x_train의 구조는: \",x_train.shape)\n",
    "print(\"y_train의 구조는: \",y_train.shape)\n",
    "print()\n",
    "print(\"x_test의 구조는: \",x_test.shape)\n",
    "print(\"y_test의 구조는: \",y_test.shape)"
   ]
  },
  {
   "cell_type": "markdown",
   "metadata": {
    "papermill": {
     "duration": 0.089974,
     "end_time": "2022-02-04T14:00:07.945594",
     "exception": false,
     "start_time": "2022-02-04T14:00:07.855620",
     "status": "completed"
    },
    "tags": []
   },
   "source": [
    "딥러닝"
   ]
  },
  {
   "cell_type": "code",
   "execution_count": 30,
   "metadata": {
    "execution": {
     "iopub.execute_input": "2022-02-04T14:00:08.136164Z",
     "iopub.status.busy": "2022-02-04T14:00:08.135444Z",
     "iopub.status.idle": "2022-02-04T14:00:14.255239Z",
     "shell.execute_reply": "2022-02-04T14:00:14.254533Z",
     "shell.execute_reply.started": "2022-01-30T02:29:39.502476Z"
    },
    "papermill": {
     "duration": 6.219902,
     "end_time": "2022-02-04T14:00:14.255389",
     "exception": false,
     "start_time": "2022-02-04T14:00:08.035487",
     "status": "completed"
    },
    "tags": []
   },
   "outputs": [],
   "source": [
    "import keras\n",
    "from keras.models import Sequential\n",
    "from keras.layers import Dense\n",
    "from keras.callbacks import EarlyStopping"
   ]
  },
  {
   "cell_type": "code",
   "execution_count": 31,
   "metadata": {
    "execution": {
     "iopub.execute_input": "2022-02-04T14:00:14.439860Z",
     "iopub.status.busy": "2022-02-04T14:00:14.439123Z",
     "iopub.status.idle": "2022-02-04T14:00:14.594344Z",
     "shell.execute_reply": "2022-02-04T14:00:14.593735Z",
     "shell.execute_reply.started": "2022-01-30T02:31:42.240791Z"
    },
    "papermill": {
     "duration": 0.249494,
     "end_time": "2022-02-04T14:00:14.594498",
     "exception": false,
     "start_time": "2022-02-04T14:00:14.345004",
     "status": "completed"
    },
    "tags": []
   },
   "outputs": [
    {
     "name": "stderr",
     "output_type": "stream",
     "text": [
      "\n",
      "User settings:\n",
      "\n",
      "   KMP_AFFINITY=granularity=fine,noverbose,compact,1,0\n",
      "   KMP_BLOCKTIME=0\n",
      "   KMP_DUPLICATE_LIB_OK=True\n",
      "   KMP_INIT_AT_FORK=FALSE\n",
      "   KMP_SETTINGS=1\n",
      "   KMP_WARNINGS=0\n",
      "\n",
      "Effective settings:\n",
      "\n",
      "   KMP_ABORT_DELAY=0\n",
      "   KMP_ADAPTIVE_LOCK_PROPS='1,1024'\n",
      "   KMP_ALIGN_ALLOC=64\n",
      "   KMP_ALL_THREADPRIVATE=128\n",
      "   KMP_ATOMIC_MODE=2\n",
      "   KMP_BLOCKTIME=0\n",
      "   KMP_CPUINFO_FILE: value is not defined\n",
      "   KMP_DETERMINISTIC_REDUCTION=false\n",
      "   KMP_DEVICE_THREAD_LIMIT=2147483647\n",
      "   KMP_DISP_NUM_BUFFERS=7\n",
      "   KMP_DUPLICATE_LIB_OK=true\n",
      "   KMP_ENABLE_TASK_THROTTLING=true\n",
      "   KMP_FORCE_REDUCTION: value is not defined\n",
      "   KMP_FOREIGN_THREADS_THREADPRIVATE=true\n",
      "   KMP_FORKJOIN_BARRIER='2,2'\n",
      "   KMP_FORKJOIN_BARRIER_PATTERN='hyper,hyper'\n",
      "   KMP_GTID_MODE=3\n",
      "   KMP_HANDLE_SIGNALS=false\n",
      "   KMP_HOT_TEAMS_MAX_LEVEL=1\n",
      "   KMP_HOT_TEAMS_MODE=0\n",
      "   KMP_INIT_AT_FORK=true\n",
      "   KMP_LIBRARY=throughput\n",
      "   KMP_LOCK_KIND=queuing\n",
      "   KMP_MALLOC_POOL_INCR=1M\n",
      "   KMP_NUM_LOCKS_IN_BLOCK=1\n",
      "   KMP_PLAIN_BARRIER='2,2'\n",
      "   KMP_PLAIN_BARRIER_PATTERN='hyper,hyper'\n",
      "   KMP_REDUCTION_BARRIER='1,1'\n",
      "   KMP_REDUCTION_BARRIER_PATTERN='hyper,hyper'\n",
      "   KMP_SCHEDULE='static,balanced;guided,iterative'\n",
      "   KMP_SETTINGS=true\n",
      "   KMP_SPIN_BACKOFF_PARAMS='4096,100'\n",
      "   KMP_STACKOFFSET=64\n",
      "   KMP_STACKPAD=0\n",
      "   KMP_STACKSIZE=8M\n",
      "   KMP_STORAGE_MAP=false\n",
      "   KMP_TASKING=2\n",
      "   KMP_TASKLOOP_MIN_TASKS=0\n",
      "   KMP_TASK_STEALING_CONSTRAINT=1\n",
      "   KMP_TEAMS_THREAD_LIMIT=4\n",
      "   KMP_TOPOLOGY_METHOD=all\n",
      "   KMP_USE_YIELD=1\n",
      "   KMP_VERSION=false\n",
      "   KMP_WARNINGS=false\n",
      "   OMP_AFFINITY_FORMAT='OMP: pid %P tid %i thread %n bound to OS proc set {%A}'\n",
      "   OMP_ALLOCATOR=omp_default_mem_alloc\n",
      "   OMP_CANCELLATION=false\n",
      "   OMP_DEFAULT_DEVICE=0\n",
      "   OMP_DISPLAY_AFFINITY=false\n",
      "   OMP_DISPLAY_ENV=false\n",
      "   OMP_DYNAMIC=false\n",
      "   OMP_MAX_ACTIVE_LEVELS=1\n",
      "   OMP_MAX_TASK_PRIORITY=0\n",
      "   OMP_NESTED: deprecated; max-active-levels-var=1\n",
      "   OMP_NUM_THREADS: value is not defined\n",
      "   OMP_PLACES: value is not defined\n",
      "   OMP_PROC_BIND='intel'\n",
      "   OMP_SCHEDULE='static'\n",
      "   OMP_STACKSIZE=8M\n",
      "   OMP_TARGET_OFFLOAD=DEFAULT\n",
      "   OMP_THREAD_LIMIT=2147483647\n",
      "   OMP_WAIT_POLICY=PASSIVE\n",
      "   KMP_AFFINITY='noverbose,warnings,respect,granularity=fine,compact,1,0'\n",
      "\n",
      "2022-02-04 14:00:14.477915: I tensorflow/core/common_runtime/process_util.cc:146] Creating new thread pool with default inter op setting: 2. Tune using inter_op_parallelism_threads for best performance.\n"
     ]
    }
   ],
   "source": [
    "model=Sequential()\n",
    "model.add(Dense(units=160,activation='relu',input_dim=57))\n",
    "model.add(Dense(units=60,activation='relu'))\n",
    "model.add(Dense(units=20,activation='relu'))\n",
    "model.add(Dense(units=1,activation='linear'))"
   ]
  },
  {
   "cell_type": "code",
   "execution_count": 32,
   "metadata": {
    "execution": {
     "iopub.execute_input": "2022-02-04T14:00:14.777510Z",
     "iopub.status.busy": "2022-02-04T14:00:14.776455Z",
     "iopub.status.idle": "2022-02-04T14:00:14.784906Z",
     "shell.execute_reply": "2022-02-04T14:00:14.785580Z",
     "shell.execute_reply.started": "2022-01-30T02:31:53.927738Z"
    },
    "papermill": {
     "duration": 0.103198,
     "end_time": "2022-02-04T14:00:14.785762",
     "exception": false,
     "start_time": "2022-02-04T14:00:14.682564",
     "status": "completed"
    },
    "tags": []
   },
   "outputs": [
    {
     "name": "stdout",
     "output_type": "stream",
     "text": [
      "Model: \"sequential\"\n",
      "_________________________________________________________________\n",
      "Layer (type)                 Output Shape              Param #   \n",
      "=================================================================\n",
      "dense (Dense)                (None, 160)               9280      \n",
      "_________________________________________________________________\n",
      "dense_1 (Dense)              (None, 60)                9660      \n",
      "_________________________________________________________________\n",
      "dense_2 (Dense)              (None, 20)                1220      \n",
      "_________________________________________________________________\n",
      "dense_3 (Dense)              (None, 1)                 21        \n",
      "=================================================================\n",
      "Total params: 20,181\n",
      "Trainable params: 20,181\n",
      "Non-trainable params: 0\n",
      "_________________________________________________________________\n"
     ]
    }
   ],
   "source": [
    "model.summary()"
   ]
  },
  {
   "cell_type": "code",
   "execution_count": 33,
   "metadata": {
    "execution": {
     "iopub.execute_input": "2022-02-04T14:00:14.964442Z",
     "iopub.status.busy": "2022-02-04T14:00:14.963437Z",
     "iopub.status.idle": "2022-02-04T14:21:03.979238Z",
     "shell.execute_reply": "2022-02-04T14:21:03.979810Z",
     "shell.execute_reply.started": "2022-01-30T02:34:29.860949Z"
    },
    "papermill": {
     "duration": 1249.109098,
     "end_time": "2022-02-04T14:21:03.980052",
     "exception": false,
     "start_time": "2022-02-04T14:00:14.870954",
     "status": "completed"
    },
    "tags": []
   },
   "outputs": [
    {
     "name": "stderr",
     "output_type": "stream",
     "text": [
      "2022-02-04 14:00:15.086202: I tensorflow/compiler/mlir/mlir_graph_optimization_pass.cc:185] None of the MLIR Optimization Passes are enabled (registered 2)\n"
     ]
    },
    {
     "name": "stdout",
     "output_type": "stream",
     "text": [
      "Epoch 1/50\n",
      "10876/10876 [==============================] - 31s 3ms/step - loss: 515.5089 - mae: 515.5089 - val_loss: 414.1768 - val_mae: 414.1768\n",
      "Epoch 2/50\n",
      "10876/10876 [==============================] - 31s 3ms/step - loss: 320.1397 - mae: 320.1397 - val_loss: 331.6360 - val_mae: 331.6360\n",
      "Epoch 3/50\n",
      "10876/10876 [==============================] - 32s 3ms/step - loss: 248.1857 - mae: 248.1857 - val_loss: 246.9066 - val_mae: 246.9066\n",
      "Epoch 4/50\n",
      "10876/10876 [==============================] - 32s 3ms/step - loss: 210.3329 - mae: 210.3329 - val_loss: 216.9593 - val_mae: 216.9593\n",
      "Epoch 5/50\n",
      "10876/10876 [==============================] - 32s 3ms/step - loss: 183.9807 - mae: 183.9807 - val_loss: 178.2252 - val_mae: 178.2252\n",
      "Epoch 6/50\n",
      "10876/10876 [==============================] - 29s 3ms/step - loss: 168.8013 - mae: 168.8013 - val_loss: 189.2894 - val_mae: 189.2894\n",
      "Epoch 7/50\n",
      "10876/10876 [==============================] - 25s 2ms/step - loss: 158.8599 - mae: 158.8599 - val_loss: 201.0279 - val_mae: 201.0279\n",
      "Epoch 8/50\n",
      "10876/10876 [==============================] - 26s 2ms/step - loss: 155.1282 - mae: 155.1282 - val_loss: 181.8621 - val_mae: 181.8621\n",
      "Epoch 9/50\n",
      "10876/10876 [==============================] - 25s 2ms/step - loss: 149.3067 - mae: 149.3067 - val_loss: 224.1540 - val_mae: 224.1540\n",
      "Epoch 10/50\n",
      "10876/10876 [==============================] - 27s 2ms/step - loss: 146.6317 - mae: 146.6317 - val_loss: 150.2471 - val_mae: 150.2471\n",
      "Epoch 11/50\n",
      "10876/10876 [==============================] - 26s 2ms/step - loss: 143.6567 - mae: 143.6567 - val_loss: 260.0078 - val_mae: 260.0078\n",
      "Epoch 12/50\n",
      "10876/10876 [==============================] - 26s 2ms/step - loss: 140.9711 - mae: 140.9711 - val_loss: 168.0470 - val_mae: 168.0470\n",
      "Epoch 13/50\n",
      "10876/10876 [==============================] - 27s 2ms/step - loss: 138.6631 - mae: 138.6631 - val_loss: 161.9309 - val_mae: 161.9309\n",
      "Epoch 14/50\n",
      "10876/10876 [==============================] - 26s 2ms/step - loss: 136.7668 - mae: 136.7668 - val_loss: 140.8229 - val_mae: 140.8229\n",
      "Epoch 15/50\n",
      "10876/10876 [==============================] - 27s 3ms/step - loss: 136.2080 - mae: 136.2080 - val_loss: 151.8646 - val_mae: 151.8646\n",
      "Epoch 16/50\n",
      "10876/10876 [==============================] - 24s 2ms/step - loss: 133.6641 - mae: 133.6641 - val_loss: 197.1745 - val_mae: 197.1745\n",
      "Epoch 17/50\n",
      "10876/10876 [==============================] - 25s 2ms/step - loss: 132.8441 - mae: 132.8441 - val_loss: 167.1118 - val_mae: 167.1118\n",
      "Epoch 18/50\n",
      "10876/10876 [==============================] - 24s 2ms/step - loss: 130.7942 - mae: 130.7942 - val_loss: 159.7429 - val_mae: 159.7429\n",
      "Epoch 19/50\n",
      "10876/10876 [==============================] - 24s 2ms/step - loss: 130.8778 - mae: 130.8778 - val_loss: 212.2727 - val_mae: 212.2727\n",
      "Epoch 20/50\n",
      "10876/10876 [==============================] - 24s 2ms/step - loss: 130.1544 - mae: 130.1544 - val_loss: 177.8517 - val_mae: 177.8517\n",
      "Epoch 21/50\n",
      "10876/10876 [==============================] - 25s 2ms/step - loss: 128.9651 - mae: 128.9651 - val_loss: 201.5553 - val_mae: 201.5553\n",
      "Epoch 22/50\n",
      "10876/10876 [==============================] - 26s 2ms/step - loss: 127.0572 - mae: 127.0572 - val_loss: 154.3118 - val_mae: 154.3118\n",
      "Epoch 23/50\n",
      "10876/10876 [==============================] - 23s 2ms/step - loss: 126.3161 - mae: 126.3161 - val_loss: 156.3951 - val_mae: 156.3951\n",
      "Epoch 24/50\n",
      "10876/10876 [==============================] - 24s 2ms/step - loss: 125.5907 - mae: 125.5907 - val_loss: 130.0863 - val_mae: 130.0863\n",
      "Epoch 25/50\n",
      "10876/10876 [==============================] - 25s 2ms/step - loss: 124.6127 - mae: 124.6127 - val_loss: 142.3024 - val_mae: 142.3024\n",
      "Epoch 26/50\n",
      "10876/10876 [==============================] - 22s 2ms/step - loss: 125.0162 - mae: 125.0162 - val_loss: 157.1846 - val_mae: 157.1846\n",
      "Epoch 27/50\n",
      "10876/10876 [==============================] - 23s 2ms/step - loss: 124.4925 - mae: 124.4925 - val_loss: 133.3854 - val_mae: 133.3854\n",
      "Epoch 28/50\n",
      "10876/10876 [==============================] - 23s 2ms/step - loss: 122.6198 - mae: 122.6198 - val_loss: 171.7285 - val_mae: 171.7285\n",
      "Epoch 29/50\n",
      "10876/10876 [==============================] - 24s 2ms/step - loss: 123.3125 - mae: 123.3125 - val_loss: 150.6578 - val_mae: 150.6578\n",
      "Epoch 30/50\n",
      "10876/10876 [==============================] - 23s 2ms/step - loss: 121.4396 - mae: 121.4396 - val_loss: 150.7617 - val_mae: 150.7617\n",
      "Epoch 31/50\n",
      "10876/10876 [==============================] - 23s 2ms/step - loss: 121.9885 - mae: 121.9885 - val_loss: 150.3362 - val_mae: 150.3362\n",
      "Epoch 32/50\n",
      "10876/10876 [==============================] - 23s 2ms/step - loss: 120.0570 - mae: 120.0570 - val_loss: 167.0847 - val_mae: 167.0847\n",
      "Epoch 33/50\n",
      "10876/10876 [==============================] - 23s 2ms/step - loss: 119.9852 - mae: 119.9852 - val_loss: 167.5788 - val_mae: 167.5788\n",
      "Epoch 34/50\n",
      "10876/10876 [==============================] - 23s 2ms/step - loss: 120.2627 - mae: 120.2627 - val_loss: 154.5488 - val_mae: 154.5488\n",
      "Epoch 35/50\n",
      "10876/10876 [==============================] - 23s 2ms/step - loss: 118.7273 - mae: 118.7273 - val_loss: 166.6498 - val_mae: 166.6498\n",
      "Epoch 36/50\n",
      "10876/10876 [==============================] - 24s 2ms/step - loss: 118.2317 - mae: 118.2317 - val_loss: 167.8630 - val_mae: 167.8630\n",
      "Epoch 37/50\n",
      "10876/10876 [==============================] - 24s 2ms/step - loss: 119.3381 - mae: 119.3381 - val_loss: 142.1300 - val_mae: 142.1300\n",
      "Epoch 38/50\n",
      "10876/10876 [==============================] - 25s 2ms/step - loss: 117.4982 - mae: 117.4982 - val_loss: 164.1328 - val_mae: 164.1328\n",
      "Epoch 39/50\n",
      "10876/10876 [==============================] - 25s 2ms/step - loss: 117.7857 - mae: 117.7857 - val_loss: 164.4939 - val_mae: 164.4939\n",
      "Epoch 40/50\n",
      "10876/10876 [==============================] - 23s 2ms/step - loss: 117.5255 - mae: 117.5255 - val_loss: 161.7357 - val_mae: 161.7357\n",
      "Epoch 41/50\n",
      "10876/10876 [==============================] - 24s 2ms/step - loss: 116.9725 - mae: 116.9725 - val_loss: 174.7743 - val_mae: 174.7743\n",
      "Epoch 42/50\n",
      "10876/10876 [==============================] - 24s 2ms/step - loss: 116.2512 - mae: 116.2512 - val_loss: 141.2581 - val_mae: 141.2581\n",
      "Epoch 43/50\n",
      "10876/10876 [==============================] - 22s 2ms/step - loss: 113.6798 - mae: 113.6798 - val_loss: 188.2360 - val_mae: 188.2360\n",
      "Epoch 44/50\n",
      "10876/10876 [==============================] - 23s 2ms/step - loss: 114.4304 - mae: 114.4304 - val_loss: 147.7556 - val_mae: 147.7556\n",
      "Epoch 45/50\n",
      "10876/10876 [==============================] - 23s 2ms/step - loss: 115.0648 - mae: 115.0648 - val_loss: 210.8739 - val_mae: 210.8739\n",
      "Epoch 46/50\n",
      "10876/10876 [==============================] - 24s 2ms/step - loss: 113.9184 - mae: 113.9184 - val_loss: 153.2528 - val_mae: 153.2528\n",
      "Epoch 47/50\n",
      "10876/10876 [==============================] - 23s 2ms/step - loss: 113.6482 - mae: 113.6482 - val_loss: 177.6845 - val_mae: 177.6845\n",
      "Epoch 48/50\n",
      "10876/10876 [==============================] - 24s 2ms/step - loss: 113.3443 - mae: 113.3443 - val_loss: 141.6049 - val_mae: 141.6049\n",
      "Epoch 49/50\n",
      "10876/10876 [==============================] - 23s 2ms/step - loss: 112.9731 - mae: 112.9731 - val_loss: 132.2238 - val_mae: 132.2238\n",
      "Epoch 50/50\n",
      "10876/10876 [==============================] - 22s 2ms/step - loss: 113.1173 - mae: 113.1173 - val_loss: 148.1353 - val_mae: 148.1353\n"
     ]
    }
   ],
   "source": [
    "model.compile(loss='mae',optimizer='adam',metrics=['mae'])\n",
    "early_stopping=EarlyStopping(monitor='loss',patience=5,mode='min') # 과적합이 되기 전 stop\n",
    "history=model.fit(x_train,y_train,epochs=50,batch_size=1,validation_split=0.1,callbacks=[early_stopping])"
   ]
  },
  {
   "cell_type": "code",
   "execution_count": 34,
   "metadata": {
    "execution": {
     "iopub.execute_input": "2022-02-04T14:21:18.686718Z",
     "iopub.status.busy": "2022-02-04T14:21:18.679649Z",
     "iopub.status.idle": "2022-02-04T14:21:18.849881Z",
     "shell.execute_reply": "2022-02-04T14:21:18.849281Z",
     "shell.execute_reply.started": "2022-01-30T02:52:43.413314Z"
    },
    "papermill": {
     "duration": 7.419858,
     "end_time": "2022-02-04T14:21:18.850059",
     "exception": false,
     "start_time": "2022-02-04T14:21:11.430201",
     "status": "completed"
    },
    "tags": []
   },
   "outputs": [
    {
     "data": {
      "image/png": "[encoded data removed]",
      "text/plain": [
       "<Figure size 432x288 with 1 Axes>"
      ]
     },
     "metadata": {
      "needs_background": "light"
     },
     "output_type": "display_data"
    }
   ],
   "source": [
    "# 시각화\n",
    "plt.plot(history.history['val_loss'])\n",
    "plt.plot(history.history['loss'])\n",
    "plt.xlabel('Epoch')\n",
    "plt.ylabel('loss')\n",
    "plt.legend(['val_loss','loss'])\n",
    "plt.show()"
   ]
  },
  {
   "cell_type": "code",
   "execution_count": 35,
   "metadata": {
    "execution": {
     "iopub.execute_input": "2022-02-04T14:21:33.333069Z",
     "iopub.status.busy": "2022-02-04T14:21:33.332274Z",
     "iopub.status.idle": "2022-02-04T14:21:33.779028Z",
     "shell.execute_reply": "2022-02-04T14:21:33.778374Z",
     "shell.execute_reply.started": "2022-01-30T02:52:45.162182Z"
    },
    "papermill": {
     "duration": 7.688993,
     "end_time": "2022-02-04T14:21:33.779318",
     "exception": false,
     "start_time": "2022-02-04T14:21:26.090325",
     "status": "completed"
    },
    "tags": []
   },
   "outputs": [],
   "source": [
    "y_predict=model.predict(x_test)"
   ]
  },
  {
   "cell_type": "code",
   "execution_count": 36,
   "metadata": {
    "execution": {
     "iopub.execute_input": "2022-02-04T14:21:48.262149Z",
     "iopub.status.busy": "2022-02-04T14:21:48.258716Z",
     "iopub.status.idle": "2022-02-04T14:21:48.266909Z",
     "shell.execute_reply": "2022-02-04T14:21:48.267473Z",
     "shell.execute_reply.started": "2022-01-30T02:52:46.787855Z"
    },
    "papermill": {
     "duration": 7.263942,
     "end_time": "2022-02-04T14:21:48.267682",
     "exception": false,
     "start_time": "2022-02-04T14:21:41.003740",
     "status": "completed"
    },
    "tags": []
   },
   "outputs": [
    {
     "name": "stdout",
     "output_type": "stream",
     "text": [
      "RMSE 292.52167334937945\n"
     ]
    }
   ],
   "source": [
    "from sklearn.metrics import mean_squared_error\n",
    "\n",
    "\n",
    "def RMSE(y_test,y_predict):\n",
    "    return np.sqrt(mean_squared_error(y_test,y_predict))\n",
    "\n",
    "print('RMSE',RMSE(y_test,y_predict))"
   ]
  },
  {
   "cell_type": "markdown",
   "metadata": {
    "papermill": {
     "duration": 7.208604,
     "end_time": "2022-02-04T14:22:02.658646",
     "exception": false,
     "start_time": "2022-02-04T14:21:55.450042",
     "status": "completed"
    },
    "tags": []
   },
   "source": [
    "머신러닝"
   ]
  },
  {
   "cell_type": "code",
   "execution_count": 37,
   "metadata": {
    "execution": {
     "iopub.execute_input": "2022-02-04T14:22:17.166827Z",
     "iopub.status.busy": "2022-02-04T14:22:17.165888Z",
     "iopub.status.idle": "2022-02-04T14:22:27.717271Z",
     "shell.execute_reply": "2022-02-04T14:22:27.716679Z",
     "shell.execute_reply.started": "2022-01-30T02:53:11.91479Z"
    },
    "papermill": {
     "duration": 17.823406,
     "end_time": "2022-02-04T14:22:27.717418",
     "exception": false,
     "start_time": "2022-02-04T14:22:09.894012",
     "status": "completed"
    },
    "tags": []
   },
   "outputs": [
    {
     "name": "stdout",
     "output_type": "stream",
     "text": [
      "RMSE 303.6417775662534\n"
     ]
    }
   ],
   "source": [
    "# 랜덤포레스트\n",
    "from sklearn.ensemble import RandomForestRegressor\n",
    "rf=RandomForestRegressor(n_estimators=100,random_state=16)\n",
    "rf.fit(x_train,y_train)\n",
    "rf_result=rf.predict(x_test)\n",
    "print('RMSE', RMSE(y_test,rf_result))"
   ]
  },
  {
   "cell_type": "code",
   "execution_count": 38,
   "metadata": {
    "execution": {
     "iopub.execute_input": "2022-02-04T14:22:42.276034Z",
     "iopub.status.busy": "2022-02-04T14:22:42.275177Z",
     "iopub.status.idle": "2022-02-04T14:22:44.275511Z",
     "shell.execute_reply": "2022-02-04T14:22:44.276056Z",
     "shell.execute_reply.started": "2022-01-30T02:53:38.832006Z"
    },
    "papermill": {
     "duration": 9.247002,
     "end_time": "2022-02-04T14:22:44.276273",
     "exception": false,
     "start_time": "2022-02-04T14:22:35.029271",
     "status": "completed"
    },
    "tags": []
   },
   "outputs": [
    {
     "name": "stdout",
     "output_type": "stream",
     "text": [
      "RMSE 307.09072320247844\n"
     ]
    }
   ],
   "source": [
    "# XGBOOST\n",
    "from xgboost import XGBRegressor\n",
    "xgb=XGBRegressor(n_estimators=100,random_state=16)\n",
    "xgb.fit(x_train,y_train)\n",
    "xgb_result=xgb.predict(x_test)\n",
    "print('RMSE', RMSE(y_test,xgb_result))"
   ]
  },
  {
   "cell_type": "code",
   "execution_count": 39,
   "metadata": {
    "execution": {
     "iopub.execute_input": "2022-02-04T14:22:58.787074Z",
     "iopub.status.busy": "2022-02-04T14:22:58.786156Z",
     "iopub.status.idle": "2022-02-04T14:23:00.009920Z",
     "shell.execute_reply": "2022-02-04T14:23:00.010928Z",
     "shell.execute_reply.started": "2022-01-30T02:54:35.186479Z"
    },
    "papermill": {
     "duration": 8.4447,
     "end_time": "2022-02-04T14:23:00.011172",
     "exception": false,
     "start_time": "2022-02-04T14:22:51.566472",
     "status": "completed"
    },
    "tags": []
   },
   "outputs": [
    {
     "data": {
      "text/html": [
       "<style type='text/css'>\n",
       ".datatable table.frame { margin-bottom: 0; }\n",
       ".datatable table.frame thead { border-bottom: none; }\n",
       ".datatable table.frame tr.coltypes td {  color: #FFFFFF;  line-height: 6px;  padding: 0 0.5em;}\n",
       ".datatable .bool    { background: #DDDD99; }\n",
       ".datatable .object  { background: #565656; }\n",
       ".datatable .int     { background: #5D9E5D; }\n",
       ".datatable .float   { background: #4040CC; }\n",
       ".datatable .str     { background: #CC4040; }\n",
       ".datatable .time    { background: #40CC40; }\n",
       ".datatable .row_index {  background: var(--jp-border-color3);  border-right: 1px solid var(--jp-border-color0);  color: var(--jp-ui-font-color3);  font-size: 9px;}\n",
       ".datatable .frame tbody td { text-align: left; }\n",
       ".datatable .frame tr.coltypes .row_index {  background: var(--jp-border-color0);}\n",
       ".datatable th:nth-child(2) { padding-left: 12px; }\n",
       ".datatable .hellipsis {  color: var(--jp-cell-editor-border-color);}\n",
       ".datatable .vellipsis {  background: var(--jp-layout-color0);  color: var(--jp-cell-editor-border-color);}\n",
       ".datatable .na {  color: var(--jp-cell-editor-border-color);  font-size: 80%;}\n",
       ".datatable .sp {  opacity: 0.25;}\n",
       ".datatable .footer { font-size: 9px; }\n",
       ".datatable .frame_dimensions {  background: var(--jp-border-color3);  border-top: 1px solid var(--jp-border-color0);  color: var(--jp-ui-font-color3);  display: inline-block;  opacity: 0.6;  padding: 1px 10px 1px 5px;}\n",
       "</style>\n"
      ],
      "text/plain": [
       "<IPython.core.display.HTML object>"
      ]
     },
     "metadata": {},
     "output_type": "display_data"
    },
    {
     "name": "stdout",
     "output_type": "stream",
     "text": [
      "RMSE 323.2746495922864\n"
     ]
    }
   ],
   "source": [
    "# LGB\n",
    "from lightgbm import LGBMRegressor\n",
    "lgb=LGBMRegressor(n_estimators=100,random_state=16)\n",
    "lgb.fit(x_train,y_train)\n",
    "lgb_result=lgb.predict(x_test)\n",
    "print('RMSE', RMSE(y_test,lgb_result))"
   ]
  },
  {
   "cell_type": "markdown",
   "metadata": {
    "papermill": {
     "duration": 7.242219,
     "end_time": "2022-02-04T14:23:14.509577",
     "exception": false,
     "start_time": "2022-02-04T14:23:07.267358",
     "status": "completed"
    },
    "tags": []
   },
   "source": [
    "모형 비교"
   ]
  },
  {
   "cell_type": "code",
   "execution_count": 40,
   "metadata": {
    "execution": {
     "iopub.execute_input": "2022-02-04T14:23:29.334990Z",
     "iopub.status.busy": "2022-02-04T14:23:29.333988Z",
     "iopub.status.idle": "2022-02-04T14:23:29.341143Z",
     "shell.execute_reply": "2022-02-04T14:23:29.341662Z",
     "shell.execute_reply.started": "2022-01-30T02:54:38.030186Z"
    },
    "papermill": {
     "duration": 7.267306,
     "end_time": "2022-02-04T14:23:29.341840",
     "exception": false,
     "start_time": "2022-02-04T14:23:22.074534",
     "status": "completed"
    },
    "tags": []
   },
   "outputs": [],
   "source": [
    "xgb=pd.DataFrame(xgb_result)\n",
    "rf=pd.DataFrame(rf_result)\n",
    "dnn=pd.DataFrame(y_predict)\n",
    "lgb=pd.DataFrame(lgb_result)\n",
    "compare=pd.DataFrame(y_test).reset_index(drop=True)"
   ]
  },
  {
   "cell_type": "code",
   "execution_count": 41,
   "metadata": {
    "execution": {
     "iopub.execute_input": "2022-02-04T14:23:43.882836Z",
     "iopub.status.busy": "2022-02-04T14:23:43.881701Z",
     "iopub.status.idle": "2022-02-04T14:23:43.895269Z",
     "shell.execute_reply": "2022-02-04T14:23:43.895774Z",
     "shell.execute_reply.started": "2022-01-30T02:54:40.818412Z"
    },
    "papermill": {
     "duration": 7.250331,
     "end_time": "2022-02-04T14:23:43.895954",
     "exception": false,
     "start_time": "2022-02-04T14:23:36.645623",
     "status": "completed"
    },
    "tags": []
   },
   "outputs": [
    {
     "data": {
      "text/html": [
       "<div>\n",
       "<style scoped>\n",
       "    .dataframe tbody tr th:only-of-type {\n",
       "        vertical-align: middle;\n",
       "    }\n",
       "\n",
       "    .dataframe tbody tr th {\n",
       "        vertical-align: top;\n",
       "    }\n",
       "\n",
       "    .dataframe thead th {\n",
       "        text-align: right;\n",
       "    }\n",
       "</style>\n",
       "<table border=\"1\" class=\"dataframe\">\n",
       "  <thead>\n",
       "    <tr style=\"text-align: right;\">\n",
       "      <th></th>\n",
       "      <th>cnt</th>\n",
       "      <th>xgb</th>\n",
       "      <th>rf</th>\n",
       "      <th>lgb</th>\n",
       "      <th>dnn</th>\n",
       "    </tr>\n",
       "  </thead>\n",
       "  <tbody>\n",
       "    <tr>\n",
       "      <th>0</th>\n",
       "      <td>1885</td>\n",
       "      <td>1803.070923</td>\n",
       "      <td>1700.24</td>\n",
       "      <td>1830.345197</td>\n",
       "      <td>2041.348022</td>\n",
       "    </tr>\n",
       "    <tr>\n",
       "      <th>1</th>\n",
       "      <td>2175</td>\n",
       "      <td>2228.828125</td>\n",
       "      <td>1803.82</td>\n",
       "      <td>2133.296789</td>\n",
       "      <td>2211.547363</td>\n",
       "    </tr>\n",
       "    <tr>\n",
       "      <th>2</th>\n",
       "      <td>2485</td>\n",
       "      <td>2598.814697</td>\n",
       "      <td>2191.37</td>\n",
       "      <td>2590.899050</td>\n",
       "      <td>2474.436768</td>\n",
       "    </tr>\n",
       "    <tr>\n",
       "      <th>3</th>\n",
       "      <td>2882</td>\n",
       "      <td>2683.149658</td>\n",
       "      <td>2206.67</td>\n",
       "      <td>2613.783086</td>\n",
       "      <td>2314.234863</td>\n",
       "    </tr>\n",
       "    <tr>\n",
       "      <th>4</th>\n",
       "      <td>2965</td>\n",
       "      <td>2590.693848</td>\n",
       "      <td>2276.35</td>\n",
       "      <td>2306.341169</td>\n",
       "      <td>2236.340332</td>\n",
       "    </tr>\n",
       "  </tbody>\n",
       "</table>\n",
       "</div>"
      ],
      "text/plain": [
       "    cnt          xgb       rf          lgb          dnn\n",
       "0  1885  1803.070923  1700.24  1830.345197  2041.348022\n",
       "1  2175  2228.828125  1803.82  2133.296789  2211.547363\n",
       "2  2485  2598.814697  2191.37  2590.899050  2474.436768\n",
       "3  2882  2683.149658  2206.67  2613.783086  2314.234863\n",
       "4  2965  2590.693848  2276.35  2306.341169  2236.340332"
      ]
     },
     "execution_count": 41,
     "metadata": {},
     "output_type": "execute_result"
    }
   ],
   "source": [
    "compare['xgb']=xgb\n",
    "compare['rf']=rf\n",
    "compare['lgb']=lgb\n",
    "compare['dnn']=dnn\n",
    "compare.head()"
   ]
  },
  {
   "cell_type": "code",
   "execution_count": 42,
   "metadata": {
    "execution": {
     "iopub.execute_input": "2022-02-04T14:23:58.405271Z",
     "iopub.status.busy": "2022-02-04T14:23:58.404218Z",
     "iopub.status.idle": "2022-02-04T14:23:58.712166Z",
     "shell.execute_reply": "2022-02-04T14:23:58.712695Z",
     "shell.execute_reply.started": "2022-01-30T02:54:53.877348Z"
    },
    "papermill": {
     "duration": 7.549256,
     "end_time": "2022-02-04T14:23:58.712869",
     "exception": false,
     "start_time": "2022-02-04T14:23:51.163613",
     "status": "completed"
    },
    "tags": []
   },
   "outputs": [
    {
     "data": {
      "text/plain": [
       "<AxesSubplot:xlabel='cnt', ylabel='Density'>"
      ]
     },
     "execution_count": 42,
     "metadata": {},
     "output_type": "execute_result"
    },
    {
     "data": {
      "image/png": "[encoded data removed]",
      "text/plain": [
       "<Figure size 432x288 with 1 Axes>"
      ]
     },
     "metadata": {
      "needs_background": "light"
     },
     "output_type": "display_data"
    }
   ],
   "source": [
    "sns.kdeplot(compare['cnt'],shade=True,color='r')\n",
    "sns.kdeplot(compare['xgb'],shade=True,color='b')\n",
    "sns.kdeplot(compare['rf'],shade=True,color='y')\n",
    "sns.kdeplot(compare['dnn'],shade=True,color='g')\n",
    "# sns.kdeplot(compare['lgb'],shade=True,color='')"
   ]
  },
  {
   "cell_type": "markdown",
   "metadata": {
    "papermill": {
     "duration": 7.263217,
     "end_time": "2022-02-04T14:24:13.216032",
     "exception": false,
     "start_time": "2022-02-04T14:24:05.952815",
     "status": "completed"
    },
    "tags": []
   },
   "source": [
    "## 시계열 딥러닝"
   ]
  },
  {
   "cell_type": "code",
   "execution_count": 43,
   "metadata": {
    "execution": {
     "iopub.execute_input": "2022-02-04T14:24:27.769799Z",
     "iopub.status.busy": "2022-02-04T14:24:27.768936Z",
     "iopub.status.idle": "2022-02-04T14:24:27.825764Z",
     "shell.execute_reply": "2022-02-04T14:24:27.826342Z",
     "shell.execute_reply.started": "2022-02-04T13:06:29.926107Z"
    },
    "papermill": {
     "duration": 7.340387,
     "end_time": "2022-02-04T14:24:27.826525",
     "exception": false,
     "start_time": "2022-02-04T14:24:20.486138",
     "status": "completed"
    },
    "tags": []
   },
   "outputs": [
    {
     "data": {
      "text/html": [
       "<div>\n",
       "<style scoped>\n",
       "    .dataframe tbody tr th:only-of-type {\n",
       "        vertical-align: middle;\n",
       "    }\n",
       "\n",
       "    .dataframe tbody tr th {\n",
       "        vertical-align: top;\n",
       "    }\n",
       "\n",
       "    .dataframe thead th {\n",
       "        text-align: right;\n",
       "    }\n",
       "</style>\n",
       "<table border=\"1\" class=\"dataframe\">\n",
       "  <thead>\n",
       "    <tr style=\"text-align: right;\">\n",
       "      <th></th>\n",
       "      <th>timestamp</th>\n",
       "      <th>cnt</th>\n",
       "      <th>t1</th>\n",
       "      <th>t2</th>\n",
       "      <th>hum</th>\n",
       "      <th>wind_speed</th>\n",
       "      <th>weather_code</th>\n",
       "      <th>is_holiday</th>\n",
       "      <th>is_weekend</th>\n",
       "      <th>season</th>\n",
       "    </tr>\n",
       "  </thead>\n",
       "  <tbody>\n",
       "    <tr>\n",
       "      <th>0</th>\n",
       "      <td>2015-01-04 00:00:00</td>\n",
       "      <td>182</td>\n",
       "      <td>3.0</td>\n",
       "      <td>2.0</td>\n",
       "      <td>93.0</td>\n",
       "      <td>6.0</td>\n",
       "      <td>3.0</td>\n",
       "      <td>0.0</td>\n",
       "      <td>1.0</td>\n",
       "      <td>3.0</td>\n",
       "    </tr>\n",
       "    <tr>\n",
       "      <th>1</th>\n",
       "      <td>2015-01-04 01:00:00</td>\n",
       "      <td>138</td>\n",
       "      <td>3.0</td>\n",
       "      <td>2.5</td>\n",
       "      <td>93.0</td>\n",
       "      <td>5.0</td>\n",
       "      <td>1.0</td>\n",
       "      <td>0.0</td>\n",
       "      <td>1.0</td>\n",
       "      <td>3.0</td>\n",
       "    </tr>\n",
       "    <tr>\n",
       "      <th>2</th>\n",
       "      <td>2015-01-04 02:00:00</td>\n",
       "      <td>134</td>\n",
       "      <td>2.5</td>\n",
       "      <td>2.5</td>\n",
       "      <td>96.5</td>\n",
       "      <td>0.0</td>\n",
       "      <td>1.0</td>\n",
       "      <td>0.0</td>\n",
       "      <td>1.0</td>\n",
       "      <td>3.0</td>\n",
       "    </tr>\n",
       "    <tr>\n",
       "      <th>3</th>\n",
       "      <td>2015-01-04 03:00:00</td>\n",
       "      <td>72</td>\n",
       "      <td>2.0</td>\n",
       "      <td>2.0</td>\n",
       "      <td>100.0</td>\n",
       "      <td>0.0</td>\n",
       "      <td>1.0</td>\n",
       "      <td>0.0</td>\n",
       "      <td>1.0</td>\n",
       "      <td>3.0</td>\n",
       "    </tr>\n",
       "    <tr>\n",
       "      <th>4</th>\n",
       "      <td>2015-01-04 04:00:00</td>\n",
       "      <td>47</td>\n",
       "      <td>2.0</td>\n",
       "      <td>0.0</td>\n",
       "      <td>93.0</td>\n",
       "      <td>6.5</td>\n",
       "      <td>1.0</td>\n",
       "      <td>0.0</td>\n",
       "      <td>1.0</td>\n",
       "      <td>3.0</td>\n",
       "    </tr>\n",
       "  </tbody>\n",
       "</table>\n",
       "</div>"
      ],
      "text/plain": [
       "            timestamp  cnt   t1   t2    hum  wind_speed  weather_code  \\\n",
       "0 2015-01-04 00:00:00  182  3.0  2.0   93.0         6.0           3.0   \n",
       "1 2015-01-04 01:00:00  138  3.0  2.5   93.0         5.0           1.0   \n",
       "2 2015-01-04 02:00:00  134  2.5  2.5   96.5         0.0           1.0   \n",
       "3 2015-01-04 03:00:00   72  2.0  2.0  100.0         0.0           1.0   \n",
       "4 2015-01-04 04:00:00   47  2.0  0.0   93.0         6.5           1.0   \n",
       "\n",
       "   is_holiday  is_weekend  season  \n",
       "0         0.0         1.0     3.0  \n",
       "1         0.0         1.0     3.0  \n",
       "2         0.0         1.0     3.0  \n",
       "3         0.0         1.0     3.0  \n",
       "4         0.0         1.0     3.0  "
      ]
     },
     "execution_count": 43,
     "metadata": {},
     "output_type": "execute_result"
    }
   ],
   "source": [
    "df=pd.read_csv(\"../input/london-bike-sharing-dataset/london_merged.csv\",parse_dates=['timestamp'])\n",
    "df.head()"
   ]
  },
  {
   "cell_type": "code",
   "execution_count": 44,
   "metadata": {
    "execution": {
     "iopub.execute_input": "2022-02-04T14:24:42.818492Z",
     "iopub.status.busy": "2022-02-04T14:24:42.817799Z",
     "iopub.status.idle": "2022-02-04T14:24:42.819479Z",
     "shell.execute_reply": "2022-02-04T14:24:42.819982Z",
     "shell.execute_reply.started": "2022-02-04T13:06:30.006309Z"
    },
    "papermill": {
     "duration": 7.337596,
     "end_time": "2022-02-04T14:24:42.820158",
     "exception": false,
     "start_time": "2022-02-04T14:24:35.482562",
     "status": "completed"
    },
    "tags": []
   },
   "outputs": [],
   "source": [
    "train=df.iloc[:17000,1:2]\n",
    "test=df.iloc[17000:17414,1:2]"
   ]
  },
  {
   "cell_type": "code",
   "execution_count": 45,
   "metadata": {
    "execution": {
     "iopub.execute_input": "2022-02-04T14:24:57.430294Z",
     "iopub.status.busy": "2022-02-04T14:24:57.429474Z",
     "iopub.status.idle": "2022-02-04T14:24:57.435107Z",
     "shell.execute_reply": "2022-02-04T14:24:57.434038Z",
     "shell.execute_reply.started": "2022-02-04T13:06:30.017584Z"
    },
    "papermill": {
     "duration": 7.350612,
     "end_time": "2022-02-04T14:24:57.435357",
     "exception": false,
     "start_time": "2022-02-04T14:24:50.084745",
     "status": "completed"
    },
    "tags": []
   },
   "outputs": [
    {
     "name": "stdout",
     "output_type": "stream",
     "text": [
      "(17000, 1)\n",
      "(414, 1)\n"
     ]
    }
   ],
   "source": [
    "print(train.shape)\n",
    "print(test.shape)"
   ]
  },
  {
   "cell_type": "code",
   "execution_count": 46,
   "metadata": {
    "execution": {
     "iopub.execute_input": "2022-02-04T14:25:11.937831Z",
     "iopub.status.busy": "2022-02-04T14:25:11.937004Z",
     "iopub.status.idle": "2022-02-04T14:25:12.250202Z",
     "shell.execute_reply": "2022-02-04T14:25:12.250733Z",
     "shell.execute_reply.started": "2022-02-04T13:06:30.028610Z"
    },
    "papermill": {
     "duration": 7.530697,
     "end_time": "2022-02-04T14:25:12.250914",
     "exception": false,
     "start_time": "2022-02-04T14:25:04.720217",
     "status": "completed"
    },
    "tags": []
   },
   "outputs": [
    {
     "data": {
      "image/png": "[encoded data removed]",
      "text/plain": [
       "<Figure size 1080x288 with 1 Axes>"
      ]
     },
     "metadata": {
      "needs_background": "light"
     },
     "output_type": "display_data"
    }
   ],
   "source": [
    "df['cnt'][:17000].plot(figsize=(15,4),legend=True)\n",
    "df['cnt'][17000:].plot(figsize=(15,4),legend=True)\n",
    "plt.legend(['train','test'])\n",
    "plt.title('bike sharing demand')\n",
    "plt.show()"
   ]
  },
  {
   "cell_type": "code",
   "execution_count": 47,
   "metadata": {
    "execution": {
     "iopub.execute_input": "2022-02-04T14:25:26.818775Z",
     "iopub.status.busy": "2022-02-04T14:25:26.818099Z",
     "iopub.status.idle": "2022-02-04T14:25:27.117436Z",
     "shell.execute_reply": "2022-02-04T14:25:27.118475Z",
     "shell.execute_reply.started": "2022-02-04T13:06:38.261869Z"
    },
    "papermill": {
     "duration": 7.611641,
     "end_time": "2022-02-04T14:25:27.118795",
     "exception": false,
     "start_time": "2022-02-04T14:25:19.507154",
     "status": "completed"
    },
    "tags": []
   },
   "outputs": [
    {
     "name": "stdout",
     "output_type": "stream",
     "text": [
      "[ 1.          0.78148357 -0.41172684  0.18486682 -0.07510114 -0.09947694\n",
      " -0.08494917 -0.00403993  0.0920456   0.07065422 -0.32935188 -0.06873344\n",
      "  0.05112775  0.04852911  0.06695059 -0.19621297 -0.07610221  0.14365297\n",
      " -0.11638129  0.18990804  0.16480713]\n"
     ]
    }
   ],
   "source": [
    "from statsmodels.tsa.stattools import pacf\n",
    "pacf=pacf(df['cnt'],nlags=20,method='ols')\n",
    "print(pacf)"
   ]
  },
  {
   "cell_type": "code",
   "execution_count": 48,
   "metadata": {
    "execution": {
     "iopub.execute_input": "2022-02-04T14:25:41.668770Z",
     "iopub.status.busy": "2022-02-04T14:25:41.668106Z",
     "iopub.status.idle": "2022-02-04T14:25:42.226375Z",
     "shell.execute_reply": "2022-02-04T14:25:42.225296Z",
     "shell.execute_reply.started": "2022-02-04T13:58:11.068185Z"
    },
    "papermill": {
     "duration": 7.803414,
     "end_time": "2022-02-04T14:25:42.226805",
     "exception": true,
     "start_time": "2022-02-04T14:25:34.423391",
     "status": "failed"
    },
    "tags": []
   },
   "outputs": [
    {
     "name": "stderr",
     "output_type": "stream",
     "text": [
      "/opt/conda/lib/python3.7/site-packages/statsmodels/graphics/tsaplots.py:353: FutureWarning: The default method 'yw' can produce PACF values outside of the [-1,1] interval. After 0.13, the default will change tounadjusted Yule-Walker ('ywm'). You can use this method now by setting method='ywm'.\n",
      "  FutureWarning,\n"
     ]
    },
    {
     "ename": "ValueError",
     "evalue": "Can only compute partial correlations for lags up to 50% of the sample size. The requested nlags 20 must be < 10.",
     "output_type": "error",
     "traceback": [
      "\u001b[0;31m---------------------------------------------------------------------------\u001b[0m",
      "\u001b[0;31mValueError\u001b[0m                                Traceback (most recent call last)",
      "\u001b[0;32m/tmp/ipykernel_21/3839795726.py\u001b[0m in \u001b[0;36m<module>\u001b[0;34m\u001b[0m\n\u001b[1;32m      1\u001b[0m \u001b[0;32mfrom\u001b[0m \u001b[0mstatsmodels\u001b[0m\u001b[0;34m.\u001b[0m\u001b[0mgraphics\u001b[0m\u001b[0;34m.\u001b[0m\u001b[0mtsaplots\u001b[0m \u001b[0;32mimport\u001b[0m \u001b[0mplot_pacf\u001b[0m\u001b[0;34m\u001b[0m\u001b[0;34m\u001b[0m\u001b[0m\n\u001b[0;32m----> 2\u001b[0;31m \u001b[0mplot_pacf\u001b[0m\u001b[0;34m(\u001b[0m\u001b[0mpacf\u001b[0m\u001b[0;34m,\u001b[0m\u001b[0mlags\u001b[0m\u001b[0;34m=\u001b[0m\u001b[0;36m20\u001b[0m\u001b[0;34m,\u001b[0m\u001b[0mmethods\u001b[0m\u001b[0;34m=\u001b[0m\u001b[0;34m'ols'\u001b[0m\u001b[0;34m,\u001b[0m\u001b[0mtitle\u001b[0m\u001b[0;34m=\u001b[0m\u001b[0;34m'pa'\u001b[0m\u001b[0;34m)\u001b[0m\u001b[0;34m.\u001b[0m\u001b[0mshow\u001b[0m\u001b[0;34m(\u001b[0m\u001b[0;34m)\u001b[0m\u001b[0;34m\u001b[0m\u001b[0;34m\u001b[0m\u001b[0m\n\u001b[0m",
      "\u001b[0;32m/opt/conda/lib/python3.7/site-packages/statsmodels/graphics/tsaplots.py\u001b[0m in \u001b[0;36mplot_pacf\u001b[0;34m(x, ax, lags, alpha, method, use_vlines, title, zero, vlines_kwargs, **kwargs)\u001b[0m\n\u001b[1;32m    361\u001b[0m         \u001b[0macf_x\u001b[0m \u001b[0;34m=\u001b[0m \u001b[0mpacf\u001b[0m\u001b[0;34m(\u001b[0m\u001b[0mx\u001b[0m\u001b[0;34m,\u001b[0m \u001b[0mnlags\u001b[0m\u001b[0;34m=\u001b[0m\u001b[0mnlags\u001b[0m\u001b[0;34m,\u001b[0m \u001b[0malpha\u001b[0m\u001b[0;34m=\u001b[0m\u001b[0malpha\u001b[0m\u001b[0;34m,\u001b[0m \u001b[0mmethod\u001b[0m\u001b[0;34m=\u001b[0m\u001b[0mmethod\u001b[0m\u001b[0;34m)\u001b[0m\u001b[0;34m\u001b[0m\u001b[0;34m\u001b[0m\u001b[0m\n\u001b[1;32m    362\u001b[0m     \u001b[0;32melse\u001b[0m\u001b[0;34m:\u001b[0m\u001b[0;34m\u001b[0m\u001b[0;34m\u001b[0m\u001b[0m\n\u001b[0;32m--> 363\u001b[0;31m         \u001b[0macf_x\u001b[0m\u001b[0;34m,\u001b[0m \u001b[0mconfint\u001b[0m \u001b[0;34m=\u001b[0m \u001b[0mpacf\u001b[0m\u001b[0;34m(\u001b[0m\u001b[0mx\u001b[0m\u001b[0;34m,\u001b[0m \u001b[0mnlags\u001b[0m\u001b[0;34m=\u001b[0m\u001b[0mnlags\u001b[0m\u001b[0;34m,\u001b[0m \u001b[0malpha\u001b[0m\u001b[0;34m=\u001b[0m\u001b[0malpha\u001b[0m\u001b[0;34m,\u001b[0m \u001b[0mmethod\u001b[0m\u001b[0;34m=\u001b[0m\u001b[0mmethod\u001b[0m\u001b[0;34m)\u001b[0m\u001b[0;34m\u001b[0m\u001b[0;34m\u001b[0m\u001b[0m\n\u001b[0m\u001b[1;32m    364\u001b[0m \u001b[0;34m\u001b[0m\u001b[0m\n\u001b[1;32m    365\u001b[0m     _plot_corr(\n",
      "\u001b[0;32m/opt/conda/lib/python3.7/site-packages/statsmodels/tsa/stattools.py\u001b[0m in \u001b[0;36mpacf\u001b[0;34m(x, nlags, method, alpha)\u001b[0m\n\u001b[1;32m    988\u001b[0m     \u001b[0;32mif\u001b[0m \u001b[0mnlags\u001b[0m \u001b[0;34m>=\u001b[0m \u001b[0mx\u001b[0m\u001b[0;34m.\u001b[0m\u001b[0mshape\u001b[0m\u001b[0;34m[\u001b[0m\u001b[0;36m0\u001b[0m\u001b[0;34m]\u001b[0m \u001b[0;34m//\u001b[0m \u001b[0;36m2\u001b[0m\u001b[0;34m:\u001b[0m\u001b[0;34m\u001b[0m\u001b[0;34m\u001b[0m\u001b[0m\n\u001b[1;32m    989\u001b[0m         raise ValueError(\n\u001b[0;32m--> 990\u001b[0;31m             \u001b[0;34m\"Can only compute partial correlations for lags up to 50% of the \"\u001b[0m\u001b[0;34m\u001b[0m\u001b[0;34m\u001b[0m\u001b[0m\n\u001b[0m\u001b[1;32m    991\u001b[0m             \u001b[0;34mf\"sample size. The requested nlags {nlags} must be < \"\u001b[0m\u001b[0;34m\u001b[0m\u001b[0;34m\u001b[0m\u001b[0m\n\u001b[1;32m    992\u001b[0m             \u001b[0;34mf\"{x.shape[0] // 2}.\"\u001b[0m\u001b[0;34m\u001b[0m\u001b[0;34m\u001b[0m\u001b[0m\n",
      "\u001b[0;31mValueError\u001b[0m: Can only compute partial correlations for lags up to 50% of the sample size. The requested nlags 20 must be < 10."
     ]
    },
    {
     "data": {
      "image/png": "[encoded data removed]",
      "text/plain": [
       "<Figure size 432x288 with 1 Axes>"
      ]
     },
     "metadata": {
      "needs_background": "light"
     },
     "output_type": "display_data"
    }
   ],
   "source": [
    "from statsmodels.graphics.tsaplots import plot_pacf\n",
    "plot_pacf(pacf,lags=20,methods='ols',title='pa').show()"
   ]
  },
  {
   "cell_type": "markdown",
   "metadata": {
    "papermill": {
     "duration": null,
     "end_time": null,
     "exception": null,
     "start_time": null,
     "status": "pending"
    },
    "tags": []
   },
   "source": [
    "전처리 - 스케일링 (변수간 단위차이, 정규화, 모델의 연산속도 up)"
   ]
  },
  {
   "cell_type": "code",
   "execution_count": null,
   "metadata": {
    "execution": {
     "iopub.execute_input": "2022-02-04T13:09:37.277896Z",
     "iopub.status.busy": "2022-02-04T13:09:37.277272Z",
     "iopub.status.idle": "2022-02-04T13:09:37.410093Z",
     "shell.execute_reply": "2022-02-04T13:09:37.409217Z",
     "shell.execute_reply.started": "2022-02-04T13:09:37.277853Z"
    },
    "papermill": {
     "duration": null,
     "end_time": null,
     "exception": null,
     "start_time": null,
     "status": "pending"
    },
    "tags": []
   },
   "outputs": [],
   "source": [
    "# MinMaxScaler\n",
    "from sklearn.preprocessing import MinMaxScaler\n",
    "sc=MinMaxScaler(feature_range=(0,1)) # 0에서 1사이로 바꿈\n",
    "train_scaled=sc.fit_transform(train)"
   ]
  },
  {
   "cell_type": "code",
   "execution_count": null,
   "metadata": {
    "execution": {
     "iopub.execute_input": "2022-02-04T13:09:44.064767Z",
     "iopub.status.busy": "2022-02-04T13:09:44.064505Z",
     "iopub.status.idle": "2022-02-04T13:09:44.071422Z",
     "shell.execute_reply": "2022-02-04T13:09:44.070494Z",
     "shell.execute_reply.started": "2022-02-04T13:09:44.064739Z"
    },
    "papermill": {
     "duration": null,
     "end_time": null,
     "exception": null,
     "start_time": null,
     "status": "pending"
    },
    "tags": []
   },
   "outputs": [],
   "source": [
    "train_scaled"
   ]
  },
  {
   "cell_type": "code",
   "execution_count": null,
   "metadata": {
    "execution": {
     "iopub.execute_input": "2022-02-04T13:12:34.849953Z",
     "iopub.status.busy": "2022-02-04T13:12:34.849445Z",
     "iopub.status.idle": "2022-02-04T13:12:34.876004Z",
     "shell.execute_reply": "2022-02-04T13:12:34.875300Z",
     "shell.execute_reply.started": "2022-02-04T13:12:34.849912Z"
    },
    "papermill": {
     "duration": null,
     "end_time": null,
     "exception": null,
     "start_time": null,
     "status": "pending"
    },
    "tags": []
   },
   "outputs": [],
   "source": [
    "# 자기 자신의 과거를 독립변수로 활용 -> 한시간 단위로 shift시켜야 함\n",
    "X_train=[]\n",
    "y_train=[]\n",
    "\n",
    "for i in range(1,17000):\n",
    "    X_train.append(train_scaled[i-1:i,0])\n",
    "    y_train.append(train_scaled[i,0])\n",
    "\n",
    "X_train,y_train=np.array(X_train),np.array(y_train)"
   ]
  },
  {
   "cell_type": "code",
   "execution_count": null,
   "metadata": {
    "execution": {
     "iopub.execute_input": "2022-02-04T13:13:51.219327Z",
     "iopub.status.busy": "2022-02-04T13:13:51.218468Z",
     "iopub.status.idle": "2022-02-04T13:13:51.225349Z",
     "shell.execute_reply": "2022-02-04T13:13:51.224715Z",
     "shell.execute_reply.started": "2022-02-04T13:13:51.219288Z"
    },
    "papermill": {
     "duration": null,
     "end_time": null,
     "exception": null,
     "start_time": null,
     "status": "pending"
    },
    "tags": []
   },
   "outputs": [],
   "source": [
    "# 3차원 배열을 필요로 함 -> 변환 필요\n",
    "X_train.shape"
   ]
  },
  {
   "cell_type": "code",
   "execution_count": null,
   "metadata": {
    "execution": {
     "iopub.execute_input": "2022-02-04T13:15:13.034129Z",
     "iopub.status.busy": "2022-02-04T13:15:13.033331Z",
     "iopub.status.idle": "2022-02-04T13:15:13.039020Z",
     "shell.execute_reply": "2022-02-04T13:15:13.038252Z",
     "shell.execute_reply.started": "2022-02-04T13:15:13.034089Z"
    },
    "papermill": {
     "duration": null,
     "end_time": null,
     "exception": null,
     "start_time": null,
     "status": "pending"
    },
    "tags": []
   },
   "outputs": [],
   "source": [
    "X_train=np.reshape(X_train,(X_train.shape[0],X_train.shape[1],1))\n",
    "X_train.shape"
   ]
  },
  {
   "cell_type": "markdown",
   "metadata": {
    "papermill": {
     "duration": null,
     "end_time": null,
     "exception": null,
     "start_time": null,
     "status": "pending"
    },
    "tags": []
   },
   "source": [
    "시계열 딥러닝"
   ]
  },
  {
   "cell_type": "code",
   "execution_count": null,
   "metadata": {
    "execution": {
     "iopub.execute_input": "2022-02-04T13:17:46.458522Z",
     "iopub.status.busy": "2022-02-04T13:17:46.458201Z",
     "iopub.status.idle": "2022-02-04T13:17:51.731586Z",
     "shell.execute_reply": "2022-02-04T13:17:51.730723Z",
     "shell.execute_reply.started": "2022-02-04T13:17:46.458485Z"
    },
    "papermill": {
     "duration": null,
     "end_time": null,
     "exception": null,
     "start_time": null,
     "status": "pending"
    },
    "tags": []
   },
   "outputs": [],
   "source": [
    "# RNN 모델 - 경사각 문제 생김\n",
    "from keras.models import Sequential\n",
    "from keras.layers.core import Dense,Activation\n",
    "from keras.layers.recurrent import SimpleRNN"
   ]
  },
  {
   "cell_type": "code",
   "execution_count": null,
   "metadata": {
    "execution": {
     "iopub.execute_input": "2022-02-04T13:19:09.340718Z",
     "iopub.status.busy": "2022-02-04T13:19:09.340447Z",
     "iopub.status.idle": "2022-02-04T13:19:09.531038Z",
     "shell.execute_reply": "2022-02-04T13:19:09.530223Z",
     "shell.execute_reply.started": "2022-02-04T13:19:09.340691Z"
    },
    "papermill": {
     "duration": null,
     "end_time": null,
     "exception": null,
     "start_time": null,
     "status": "pending"
    },
    "tags": []
   },
   "outputs": [],
   "source": [
    "rnn=Sequential()\n",
    "rnn.add(SimpleRNN(activation='relu',units=6,input_shape=(1,1)))\n",
    "rnn.add(Dense(activation='linear',units=1))"
   ]
  },
  {
   "cell_type": "code",
   "execution_count": null,
   "metadata": {
    "execution": {
     "iopub.execute_input": "2022-02-04T13:19:24.071264Z",
     "iopub.status.busy": "2022-02-04T13:19:24.070615Z",
     "iopub.status.idle": "2022-02-04T13:19:24.077782Z",
     "shell.execute_reply": "2022-02-04T13:19:24.076888Z",
     "shell.execute_reply.started": "2022-02-04T13:19:24.071228Z"
    },
    "papermill": {
     "duration": null,
     "end_time": null,
     "exception": null,
     "start_time": null,
     "status": "pending"
    },
    "tags": []
   },
   "outputs": [],
   "source": [
    "print(rnn.summary())"
   ]
  },
  {
   "cell_type": "code",
   "execution_count": null,
   "metadata": {
    "execution": {
     "iopub.execute_input": "2022-02-04T13:20:06.465278Z",
     "iopub.status.busy": "2022-02-04T13:20:06.464749Z",
     "iopub.status.idle": "2022-02-04T13:20:06.478877Z",
     "shell.execute_reply": "2022-02-04T13:20:06.477879Z",
     "shell.execute_reply.started": "2022-02-04T13:20:06.465238Z"
    },
    "papermill": {
     "duration": null,
     "end_time": null,
     "exception": null,
     "start_time": null,
     "status": "pending"
    },
    "tags": []
   },
   "outputs": [],
   "source": [
    "rnn.compile(loss='mse',optimizer='adam',metrics=['mse'])"
   ]
  },
  {
   "cell_type": "code",
   "execution_count": null,
   "metadata": {
    "execution": {
     "iopub.execute_input": "2022-02-04T13:20:41.892902Z",
     "iopub.status.busy": "2022-02-04T13:20:41.892590Z",
     "iopub.status.idle": "2022-02-04T13:21:43.426321Z",
     "shell.execute_reply": "2022-02-04T13:21:43.425490Z",
     "shell.execute_reply.started": "2022-02-04T13:20:41.892869Z"
    },
    "papermill": {
     "duration": null,
     "end_time": null,
     "exception": null,
     "start_time": null,
     "status": "pending"
    },
    "tags": []
   },
   "outputs": [],
   "source": [
    "rnn.fit(X_train,y_train,batch_size=1,epochs=2)"
   ]
  },
  {
   "cell_type": "code",
   "execution_count": null,
   "metadata": {
    "execution": {
     "iopub.execute_input": "2022-02-04T13:21:54.899369Z",
     "iopub.status.busy": "2022-02-04T13:21:54.898940Z",
     "iopub.status.idle": "2022-02-04T13:21:54.906662Z",
     "shell.execute_reply": "2022-02-04T13:21:54.905709Z",
     "shell.execute_reply.started": "2022-02-04T13:21:54.899335Z"
    },
    "papermill": {
     "duration": null,
     "end_time": null,
     "exception": null,
     "start_time": null,
     "status": "pending"
    },
    "tags": []
   },
   "outputs": [],
   "source": [
    "inputs=sc.transform(test)\n",
    "inputs.shape"
   ]
  },
  {
   "cell_type": "code",
   "execution_count": null,
   "metadata": {
    "execution": {
     "iopub.execute_input": "2022-02-04T13:23:49.694364Z",
     "iopub.status.busy": "2022-02-04T13:23:49.694062Z",
     "iopub.status.idle": "2022-02-04T13:23:49.702237Z",
     "shell.execute_reply": "2022-02-04T13:23:49.701272Z",
     "shell.execute_reply.started": "2022-02-04T13:23:49.694333Z"
    },
    "papermill": {
     "duration": null,
     "end_time": null,
     "exception": null,
     "start_time": null,
     "status": "pending"
    },
    "tags": []
   },
   "outputs": [],
   "source": [
    "X_test=[]\n",
    "for i in range(1,415):\n",
    "    X_test.append(inputs[i-1:i,0])\n",
    "X_test=np.array(X_test)\n",
    "X_test=np.reshape(X_test,(X_test.shape[0],X_test.shape[1],1))\n",
    "X_test.shape"
   ]
  },
  {
   "cell_type": "code",
   "execution_count": null,
   "metadata": {
    "execution": {
     "iopub.execute_input": "2022-02-04T13:24:44.179419Z",
     "iopub.status.busy": "2022-02-04T13:24:44.178912Z",
     "iopub.status.idle": "2022-02-04T13:24:44.438272Z",
     "shell.execute_reply": "2022-02-04T13:24:44.437488Z",
     "shell.execute_reply.started": "2022-02-04T13:24:44.179367Z"
    },
    "papermill": {
     "duration": null,
     "end_time": null,
     "exception": null,
     "start_time": null,
     "status": "pending"
    },
    "tags": []
   },
   "outputs": [],
   "source": [
    "rnn=rnn.predict(X_test)\n",
    "rnn=sc.inverse_transform(rnn)"
   ]
  },
  {
   "cell_type": "code",
   "execution_count": null,
   "metadata": {
    "execution": {
     "iopub.execute_input": "2022-02-04T13:25:28.739693Z",
     "iopub.status.busy": "2022-02-04T13:25:28.738868Z",
     "iopub.status.idle": "2022-02-04T13:25:28.744157Z",
     "shell.execute_reply": "2022-02-04T13:25:28.743353Z",
     "shell.execute_reply.started": "2022-02-04T13:25:28.739641Z"
    },
    "papermill": {
     "duration": null,
     "end_time": null,
     "exception": null,
     "start_time": null,
     "status": "pending"
    },
    "tags": []
   },
   "outputs": [],
   "source": [
    "test1=pd.DataFrame(test)\n",
    "rnn1=pd.DataFrame(rnn)"
   ]
  },
  {
   "cell_type": "code",
   "execution_count": null,
   "metadata": {
    "execution": {
     "iopub.execute_input": "2022-02-04T13:26:16.201763Z",
     "iopub.status.busy": "2022-02-04T13:26:16.201450Z",
     "iopub.status.idle": "2022-02-04T13:26:16.419807Z",
     "shell.execute_reply": "2022-02-04T13:26:16.418985Z",
     "shell.execute_reply.started": "2022-02-04T13:26:16.201728Z"
    },
    "papermill": {
     "duration": null,
     "end_time": null,
     "exception": null,
     "start_time": null,
     "status": "pending"
    },
    "tags": []
   },
   "outputs": [],
   "source": [
    "test1.plot(figsize=(15,4),legend=True)\n",
    "plt.legend(['cnt'])\n",
    "plt.title(\"bike share demand\")\n",
    "plt.show()"
   ]
  },
  {
   "cell_type": "code",
   "execution_count": null,
   "metadata": {
    "execution": {
     "iopub.execute_input": "2022-02-04T13:29:32.468816Z",
     "iopub.status.busy": "2022-02-04T13:29:32.468003Z",
     "iopub.status.idle": "2022-02-04T13:29:32.667290Z",
     "shell.execute_reply": "2022-02-04T13:29:32.666591Z",
     "shell.execute_reply.started": "2022-02-04T13:29:32.468765Z"
    },
    "papermill": {
     "duration": null,
     "end_time": null,
     "exception": null,
     "start_time": null,
     "status": "pending"
    },
    "tags": []
   },
   "outputs": [],
   "source": [
    "rnn1.plot(figsize=(15,4),legend=True)\n",
    "plt.legend(['rnn'])\n",
    "plt.title(\"bike share demand\")\n",
    "plt.show()"
   ]
  },
  {
   "cell_type": "code",
   "execution_count": null,
   "metadata": {
    "execution": {
     "iopub.execute_input": "2022-02-04T13:42:42.902612Z",
     "iopub.status.busy": "2022-02-04T13:42:42.901928Z",
     "iopub.status.idle": "2022-02-04T13:42:43.150947Z",
     "shell.execute_reply": "2022-02-04T13:42:43.150086Z",
     "shell.execute_reply.started": "2022-02-04T13:42:42.902567Z"
    },
    "papermill": {
     "duration": null,
     "end_time": null,
     "exception": null,
     "start_time": null,
     "status": "pending"
    },
    "tags": []
   },
   "outputs": [],
   "source": [
    "# 한번에 나타내기\n",
    "test=np.array(test)\n",
    "\n",
    "plt.figure(figsize=(15,5))\n",
    "plt.plot(test,marker=\".\",label=\"cnt\",color='black')\n",
    "plt.plot(rnn,marker=\".\",label=\"rnn\",color=\"red\")\n",
    "plt.legend()"
   ]
  },
  {
   "cell_type": "code",
   "execution_count": null,
   "metadata": {
    "execution": {
     "iopub.execute_input": "2022-02-04T13:39:08.811716Z",
     "iopub.status.busy": "2022-02-04T13:39:08.811394Z",
     "iopub.status.idle": "2022-02-04T13:39:08.940465Z",
     "shell.execute_reply": "2022-02-04T13:39:08.939581Z",
     "shell.execute_reply.started": "2022-02-04T13:39:08.811681Z"
    },
    "papermill": {
     "duration": null,
     "end_time": null,
     "exception": null,
     "start_time": null,
     "status": "pending"
    },
    "tags": []
   },
   "outputs": [],
   "source": [
    "# LSTM 모형 - memory block을 도입해 성능 up\n",
    "from keras.layers.recurrent import LSTM\n",
    "lstm=Sequential()\n",
    "lstm.add(LSTM(units=6,activation='relu',input_shape=(1,1)))\n",
    "lstm.add(Dense(units=1,activation=\"linear\"))"
   ]
  },
  {
   "cell_type": "code",
   "execution_count": null,
   "metadata": {
    "execution": {
     "iopub.execute_input": "2022-02-04T13:39:27.490822Z",
     "iopub.status.busy": "2022-02-04T13:39:27.490550Z",
     "iopub.status.idle": "2022-02-04T13:39:27.497974Z",
     "shell.execute_reply": "2022-02-04T13:39:27.497360Z",
     "shell.execute_reply.started": "2022-02-04T13:39:27.490793Z"
    },
    "papermill": {
     "duration": null,
     "end_time": null,
     "exception": null,
     "start_time": null,
     "status": "pending"
    },
    "tags": []
   },
   "outputs": [],
   "source": [
    "print(lstm.summary())"
   ]
  },
  {
   "cell_type": "markdown",
   "metadata": {
    "papermill": {
     "duration": null,
     "end_time": null,
     "exception": null,
     "start_time": null,
     "status": "pending"
    },
    "tags": []
   },
   "source": [
    "파라미터가 훨씬 많다. -> 더 정교하게 학습을 할 수 있다. (but 오버피팅 가능성)"
   ]
  },
  {
   "cell_type": "code",
   "execution_count": null,
   "metadata": {
    "execution": {
     "iopub.execute_input": "2022-02-04T13:40:56.826906Z",
     "iopub.status.busy": "2022-02-04T13:40:56.826474Z",
     "iopub.status.idle": "2022-02-04T13:41:59.945107Z",
     "shell.execute_reply": "2022-02-04T13:41:59.944202Z",
     "shell.execute_reply.started": "2022-02-04T13:40:56.826871Z"
    },
    "papermill": {
     "duration": null,
     "end_time": null,
     "exception": null,
     "start_time": null,
     "status": "pending"
    },
    "tags": []
   },
   "outputs": [],
   "source": [
    "lstm.compile(loss='mse',optimizer='adam',metrics=['mse'])\n",
    "lstm.fit(X_train,y_train,batch_size=1,epochs=2)"
   ]
  },
  {
   "cell_type": "code",
   "execution_count": null,
   "metadata": {
    "execution": {
     "iopub.execute_input": "2022-02-04T13:42:14.497293Z",
     "iopub.status.busy": "2022-02-04T13:42:14.496981Z",
     "iopub.status.idle": "2022-02-04T13:42:14.851707Z",
     "shell.execute_reply": "2022-02-04T13:42:14.851052Z",
     "shell.execute_reply.started": "2022-02-04T13:42:14.497261Z"
    },
    "papermill": {
     "duration": null,
     "end_time": null,
     "exception": null,
     "start_time": null,
     "status": "pending"
    },
    "tags": []
   },
   "outputs": [],
   "source": [
    "lstm=lstm.predict(X_test)\n",
    "lstm=sc.inverse_transform(lstm)"
   ]
  },
  {
   "cell_type": "code",
   "execution_count": null,
   "metadata": {
    "execution": {
     "iopub.execute_input": "2022-02-04T13:43:09.302660Z",
     "iopub.status.busy": "2022-02-04T13:43:09.302399Z",
     "iopub.status.idle": "2022-02-04T13:43:09.562697Z",
     "shell.execute_reply": "2022-02-04T13:43:09.561855Z",
     "shell.execute_reply.started": "2022-02-04T13:43:09.302633Z"
    },
    "papermill": {
     "duration": null,
     "end_time": null,
     "exception": null,
     "start_time": null,
     "status": "pending"
    },
    "tags": []
   },
   "outputs": [],
   "source": [
    "plt.figure(figsize=(15,5))\n",
    "plt.plot(test,marker=\".\",label=\"cnt\",color='black')\n",
    "plt.plot(rnn,marker=\".\",label=\"rnn\",color='red')\n",
    "plt.plot(lstm,marker=\".\",label=\"lstm\",color=\"green\")\n",
    "plt.legend()"
   ]
  },
  {
   "cell_type": "code",
   "execution_count": null,
   "metadata": {
    "execution": {
     "iopub.execute_input": "2022-02-04T13:46:05.312439Z",
     "iopub.status.busy": "2022-02-04T13:46:05.312120Z",
     "iopub.status.idle": "2022-02-04T13:46:05.436859Z",
     "shell.execute_reply": "2022-02-04T13:46:05.436276Z",
     "shell.execute_reply.started": "2022-02-04T13:46:05.312405Z"
    },
    "papermill": {
     "duration": null,
     "end_time": null,
     "exception": null,
     "start_time": null,
     "status": "pending"
    },
    "tags": []
   },
   "outputs": [],
   "source": [
    "# GRU - LSTM의 과적합 문제 개선\n",
    "from keras.layers.recurrent import GRU\n",
    "\n",
    "gru=Sequential()\n",
    "gru.add(GRU(units=6,activation=\"relu\",input_shape=(1,1)))\n",
    "gru.add(Dense(units=1,activation=\"linear\"))"
   ]
  },
  {
   "cell_type": "code",
   "execution_count": null,
   "metadata": {
    "execution": {
     "iopub.execute_input": "2022-02-04T13:46:14.621740Z",
     "iopub.status.busy": "2022-02-04T13:46:14.621090Z",
     "iopub.status.idle": "2022-02-04T13:46:14.628137Z",
     "shell.execute_reply": "2022-02-04T13:46:14.627516Z",
     "shell.execute_reply.started": "2022-02-04T13:46:14.621706Z"
    },
    "papermill": {
     "duration": null,
     "end_time": null,
     "exception": null,
     "start_time": null,
     "status": "pending"
    },
    "tags": []
   },
   "outputs": [],
   "source": [
    "print(gru.summary())"
   ]
  },
  {
   "cell_type": "markdown",
   "metadata": {
    "papermill": {
     "duration": null,
     "end_time": null,
     "exception": null,
     "start_time": null,
     "status": "pending"
    },
    "tags": []
   },
   "source": [
    "파라미터 수가 많이 줄었다. -> 성능은 유지하되 과적합 방지"
   ]
  },
  {
   "cell_type": "code",
   "execution_count": null,
   "metadata": {
    "execution": {
     "iopub.execute_input": "2022-02-04T13:47:35.806765Z",
     "iopub.status.busy": "2022-02-04T13:47:35.805990Z",
     "iopub.status.idle": "2022-02-04T13:48:37.607888Z",
     "shell.execute_reply": "2022-02-04T13:48:37.607340Z",
     "shell.execute_reply.started": "2022-02-04T13:47:35.806724Z"
    },
    "papermill": {
     "duration": null,
     "end_time": null,
     "exception": null,
     "start_time": null,
     "status": "pending"
    },
    "tags": []
   },
   "outputs": [],
   "source": [
    "gru.compile(loss='mse',optimizer=\"adam\",metrics=['mse'])\n",
    "gru.fit(X_train,y_train,batch_size=1,epochs=2)"
   ]
  },
  {
   "cell_type": "code",
   "execution_count": null,
   "metadata": {
    "execution": {
     "iopub.execute_input": "2022-02-04T13:49:09.316451Z",
     "iopub.status.busy": "2022-02-04T13:49:09.315776Z",
     "iopub.status.idle": "2022-02-04T13:49:09.688994Z",
     "shell.execute_reply": "2022-02-04T13:49:09.688375Z",
     "shell.execute_reply.started": "2022-02-04T13:49:09.316415Z"
    },
    "papermill": {
     "duration": null,
     "end_time": null,
     "exception": null,
     "start_time": null,
     "status": "pending"
    },
    "tags": []
   },
   "outputs": [],
   "source": [
    "gru=gru.predict(X_test)\n",
    "gru=sc.inverse_transform(gru)"
   ]
  },
  {
   "cell_type": "code",
   "execution_count": null,
   "metadata": {
    "execution": {
     "iopub.execute_input": "2022-02-04T13:49:10.521646Z",
     "iopub.status.busy": "2022-02-04T13:49:10.521235Z",
     "iopub.status.idle": "2022-02-04T13:49:10.747064Z",
     "shell.execute_reply": "2022-02-04T13:49:10.746045Z",
     "shell.execute_reply.started": "2022-02-04T13:49:10.521615Z"
    },
    "papermill": {
     "duration": null,
     "end_time": null,
     "exception": null,
     "start_time": null,
     "status": "pending"
    },
    "tags": []
   },
   "outputs": [],
   "source": [
    "plt.figure(figsize=(15,5))\n",
    "plt.plot(test,marker=\".\",label=\"cnt\",color='black')\n",
    "plt.plot(rnn,marker=\".\",label=\"rnn\",color='red')\n",
    "plt.plot(lstm,marker=\".\",label=\"lstm\",color=\"green\")\n",
    "plt.plot(gru,marker=\".\",label=\"gru\",color=\"blue\")\n",
    "plt.legend()"
   ]
  },
  {
   "cell_type": "markdown",
   "metadata": {
    "papermill": {
     "duration": null,
     "end_time": null,
     "exception": null,
     "start_time": null,
     "status": "pending"
    },
    "tags": []
   },
   "source": [
    "LSTM이 가장 성능이 좋음"
   ]
  },
  {
   "cell_type": "code",
   "execution_count": null,
   "metadata": {
    "execution": {
     "iopub.execute_input": "2022-02-04T13:54:24.400664Z",
     "iopub.status.busy": "2022-02-04T13:54:24.399884Z",
     "iopub.status.idle": "2022-02-04T13:54:24.439386Z",
     "shell.execute_reply": "2022-02-04T13:54:24.438783Z",
     "shell.execute_reply.started": "2022-02-04T13:54:24.400627Z"
    },
    "papermill": {
     "duration": null,
     "end_time": null,
     "exception": null,
     "start_time": null,
     "status": "pending"
    },
    "tags": []
   },
   "outputs": [],
   "source": [
    "# RMSE로 비교\n",
    "from sklearn.metrics import mean_squared_error\n",
    "\n",
    "def RMSE(y_test,y_predict):\n",
    "    return np.sqrt(mean_squared_error(y_test,y_predict))"
   ]
  },
  {
   "cell_type": "code",
   "execution_count": null,
   "metadata": {
    "execution": {
     "iopub.execute_input": "2022-02-04T13:55:25.240598Z",
     "iopub.status.busy": "2022-02-04T13:55:25.239939Z",
     "iopub.status.idle": "2022-02-04T13:55:25.248986Z",
     "shell.execute_reply": "2022-02-04T13:55:25.248301Z",
     "shell.execute_reply.started": "2022-02-04T13:55:25.240557Z"
    },
    "papermill": {
     "duration": null,
     "end_time": null,
     "exception": null,
     "start_time": null,
     "status": "pending"
    },
    "tags": []
   },
   "outputs": [],
   "source": [
    "print(\"RNN RMSE:\",RMSE(test,rnn))\n",
    "print(\"LSTM RMSE:\",RMSE(test,lstm))\n",
    "print(\"GRU RMSE:\",RMSE(test,gru))"
   ]
  },
  {
   "cell_type": "markdown",
   "metadata": {
    "papermill": {
     "duration": null,
     "end_time": null,
     "exception": null,
     "start_time": null,
     "status": "pending"
    },
    "tags": []
   },
   "source": [
    "epoch를 2번밖에 안해서 파라미터 조정으로 언제든 성능 바뀔 수 있음.\n",
    "그래도 현재 상황에서는 LSTM>GRU>>RNN 순."
   ]
  }
 ],
 "metadata": {
  "kernelspec": {
   "display_name": "Python 3",
   "language": "python",
   "name": "python3"
  },
  "language_info": {
   "codemirror_mode": {
    "name": "ipython",
    "version": 3
   },
   "file_extension": ".py",
   "mimetype": "text/x-python",
   "name": "python",
   "nbconvert_exporter": "python",
   "pygments_lexer": "ipython3",
   "version": "3.8.5"
  },
  "papermill": {
   "default_parameters": {},
   "duration": 1567.143729,
   "end_time": "2022-02-04T14:25:52.408369",
   "environment_variables": {},
   "exception": true,
   "input_path": "__notebook__.ipynb",
   "output_path": "__notebook__.ipynb",
   "parameters": {},
   "start_time": "2022-02-04T13:59:45.264640",
   "version": "2.3.3"
  }
 },
 "nbformat": 4,
 "nbformat_minor": 5
}
